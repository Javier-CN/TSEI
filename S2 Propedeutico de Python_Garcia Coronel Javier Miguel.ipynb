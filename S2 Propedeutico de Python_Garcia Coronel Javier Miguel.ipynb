{
 "cells": [
  {
   "cell_type": "markdown",
   "id": "bd099425",
   "metadata": {},
   "source": [
    "<font size=3 color='blue'>\n",
    "    \n",
    "  # <center> S2 Propedeutico de Python "
   ]
  },
  {
   "cell_type": "markdown",
   "id": "24159691",
   "metadata": {},
   "source": [
    "<font size=1 color='blue'>\n",
    "    \n",
    "  # <center> García Coronel Javier MIguel"
   ]
  },
  {
   "cell_type": "markdown",
   "id": "53451e7d",
   "metadata": {},
   "source": [
    "<a id='section10'></a>\n",
    "\n",
    "## 10. Working with datetime \n",
    "\n",
    "A `datetime` module in Python can be used to work with date objects."
   ]
  },
  {
   "cell_type": "code",
   "execution_count": 15,
   "id": "cc269780",
   "metadata": {},
   "outputs": [
    {
     "name": "stdout",
     "output_type": "stream",
     "text": [
      "2022-08-29 11:47:23.789538\n",
      "2022\n",
      "Monday\n",
      "August\n",
      "29\n",
      "11:47:23 AM\n",
      "2022-09-01 11:47:23.789538\n",
      "2022\n",
      "Thursday\n",
      "September\n",
      "01\n",
      "11:47:23 AM\n"
     ]
    }
   ],
   "source": [
    "#La libreria litealmente sirve para trabajar con fechas \n",
    "import datetime\n",
    "\n",
    "x = datetime.datetime.now()\n",
    "yesterday = x + datetime.timedelta(days=3) #con timedelta podemos avanzar o regresar en el tiempo para imprimir otras fechas\n",
    "\n",
    "print(x)\n",
    "print(x.year)\n",
    "print(x.strftime(\"%A\")) #Nombre del Dia\n",
    "print(x.strftime(\"%B\")) #Mes\n",
    "print(x.strftime(\"%d\")) #Dia del mes\n",
    "print(x.strftime(\"%H:%M:%S %p\")) #Hora, minuto, segundo, periodo (AM/PM)\n",
    "\n",
    "print(yesterday)\n",
    "print(yesterday.year)\n",
    "print(yesterday.strftime(\"%A\"))\n",
    "print(yesterday.strftime(\"%B\"))\n",
    "print(yesterday.strftime(\"%d\"))\n",
    "print(yesterday.strftime(\"%H:%M:%S %p\"))"
   ]
  },
  {
   "cell_type": "markdown",
   "id": "f1056d33",
   "metadata": {},
   "source": [
    "<a id='section11'></a>\n",
    "\n",
    "## 11. NumPy\n",
    "\n",
    "NumPy is the fundamental package for scientific computing with Python. Among other things, it contains:\n",
    "\n",
    "- Powerful N-dimensional array object\n",
    "- Sophisticated (broadcasting) functions\n",
    "- Tools for integrating C/C++ and Fortran code\n",
    "- Useful linear algebra, Fourier transform, and random number capabilities"
   ]
  },
  {
   "cell_type": "code",
   "execution_count": 5,
   "id": "12db138b",
   "metadata": {},
   "outputs": [],
   "source": [
    "import numpy as np"
   ]
  },
  {
   "cell_type": "markdown",
   "id": "2b6af399",
   "metadata": {},
   "source": [
    "###  Arrays"
   ]
  },
  {
   "cell_type": "code",
   "execution_count": 25,
   "id": "500e7ab3",
   "metadata": {},
   "outputs": [],
   "source": [
    "#Crear un Array\n",
    "a = np.arange(16).reshape(4, 4) # Arreglo con elementos del 0-15 en unnarreglo de 4x4\n",
    "b = np.zeros((7,2)) # Arreglo de creos\n",
    "c = np.ones( (5,3,4), dtype=np.int16 ) # Hce 5 arrays de 3x4 lleno de unos\n",
    "d = np.ones((3,5))"
   ]
  },
  {
   "cell_type": "code",
   "execution_count": 26,
   "id": "e7844daa",
   "metadata": {},
   "outputs": [
    {
     "data": {
      "text/plain": [
       "(array([[ 0,  1,  2,  3],\n",
       "        [ 4,  5,  6,  7],\n",
       "        [ 8,  9, 10, 11],\n",
       "        [12, 13, 14, 15]]),\n",
       " array([[0., 0.],\n",
       "        [0., 0.],\n",
       "        [0., 0.],\n",
       "        [0., 0.],\n",
       "        [0., 0.],\n",
       "        [0., 0.],\n",
       "        [0., 0.]]),\n",
       " array([[[1, 1, 1, 1],\n",
       "         [1, 1, 1, 1],\n",
       "         [1, 1, 1, 1]],\n",
       " \n",
       "        [[1, 1, 1, 1],\n",
       "         [1, 1, 1, 1],\n",
       "         [1, 1, 1, 1]],\n",
       " \n",
       "        [[1, 1, 1, 1],\n",
       "         [1, 1, 1, 1],\n",
       "         [1, 1, 1, 1]],\n",
       " \n",
       "        [[1, 1, 1, 1],\n",
       "         [1, 1, 1, 1],\n",
       "         [1, 1, 1, 1]],\n",
       " \n",
       "        [[1, 1, 1, 1],\n",
       "         [1, 1, 1, 1],\n",
       "         [1, 1, 1, 1]]], dtype=int16),\n",
       " array([[1., 1., 1., 1., 1.],\n",
       "        [1., 1., 1., 1., 1.],\n",
       "        [1., 1., 1., 1., 1.]]))"
      ]
     },
     "execution_count": 26,
     "metadata": {},
     "output_type": "execute_result"
    }
   ],
   "source": [
    "#Imprimimos las Arrays\n",
    "a,b,c,d"
   ]
  },
  {
   "cell_type": "code",
   "execution_count": 27,
   "id": "93e51a2a",
   "metadata": {},
   "outputs": [
    {
     "data": {
      "text/plain": [
       "(4, 4)"
      ]
     },
     "execution_count": 27,
     "metadata": {},
     "output_type": "execute_result"
    }
   ],
   "source": [
    "a.shape # Dimensiones del Arreglo a"
   ]
  },
  {
   "cell_type": "code",
   "execution_count": 28,
   "id": "c6cd4718",
   "metadata": {},
   "outputs": [
    {
     "data": {
      "text/plain": [
       "7"
      ]
     },
     "execution_count": 28,
     "metadata": {},
     "output_type": "execute_result"
    }
   ],
   "source": [
    "len(b) # Longitud del arreglo b"
   ]
  },
  {
   "cell_type": "code",
   "execution_count": 29,
   "id": "b0aebfa5",
   "metadata": {},
   "outputs": [
    {
     "data": {
      "text/plain": [
       "3"
      ]
     },
     "execution_count": 29,
     "metadata": {},
     "output_type": "execute_result"
    }
   ],
   "source": [
    "c.ndim # Numero de filas de los arreglos"
   ]
  },
  {
   "cell_type": "code",
   "execution_count": 30,
   "id": "8580cd59",
   "metadata": {},
   "outputs": [
    {
     "data": {
      "text/plain": [
       "16"
      ]
     },
     "execution_count": 30,
     "metadata": {},
     "output_type": "execute_result"
    }
   ],
   "source": [
    "a.size # Numero de elementos en a"
   ]
  },
  {
   "cell_type": "code",
   "execution_count": 31,
   "id": "b02af5b7",
   "metadata": {},
   "outputs": [
    {
     "data": {
      "text/plain": [
       "dtype('float64')"
      ]
     },
     "execution_count": 31,
     "metadata": {},
     "output_type": "execute_result"
    }
   ],
   "source": [
    "b.dtype # Tipo de datos"
   ]
  },
  {
   "cell_type": "code",
   "execution_count": 32,
   "id": "ffaa5f59",
   "metadata": {},
   "outputs": [
    {
     "data": {
      "text/plain": [
       "'int16'"
      ]
     },
     "execution_count": 32,
     "metadata": {},
     "output_type": "execute_result"
    }
   ],
   "source": [
    "c.dtype.name "
   ]
  },
  {
   "cell_type": "code",
   "execution_count": 33,
   "id": "2c4b740c",
   "metadata": {},
   "outputs": [
    {
     "data": {
      "text/plain": [
       "array([[[1., 1., 1., 1.],\n",
       "        [1., 1., 1., 1.],\n",
       "        [1., 1., 1., 1.]],\n",
       "\n",
       "       [[1., 1., 1., 1.],\n",
       "        [1., 1., 1., 1.],\n",
       "        [1., 1., 1., 1.]],\n",
       "\n",
       "       [[1., 1., 1., 1.],\n",
       "        [1., 1., 1., 1.],\n",
       "        [1., 1., 1., 1.]],\n",
       "\n",
       "       [[1., 1., 1., 1.],\n",
       "        [1., 1., 1., 1.],\n",
       "        [1., 1., 1., 1.]],\n",
       "\n",
       "       [[1., 1., 1., 1.],\n",
       "        [1., 1., 1., 1.],\n",
       "        [1., 1., 1., 1.]]])"
      ]
     },
     "execution_count": 33,
     "metadata": {},
     "output_type": "execute_result"
    }
   ],
   "source": [
    "c.astype(float) # Convert an array type to a different type"
   ]
  },
  {
   "cell_type": "markdown",
   "id": "c2431520",
   "metadata": {},
   "source": [
    "### Operaciones Basicas"
   ]
  },
  {
   "cell_type": "code",
   "execution_count": 38,
   "id": "60bdfe8a",
   "metadata": {},
   "outputs": [],
   "source": [
    "#Los arreglos deben de ser compatibles para poder hacer operaciones entre ellos\n",
    "#Se hacen las operaciones elemento a elemento\n",
    "\n",
    "e = np.ones((4, 4))"
   ]
  },
  {
   "cell_type": "code",
   "execution_count": 39,
   "id": "04be75ad",
   "metadata": {},
   "outputs": [
    {
     "data": {
      "text/plain": [
       "array([[ 1.,  2.,  3.,  4.],\n",
       "       [ 5.,  6.,  7.,  8.],\n",
       "       [ 9., 10., 11., 12.],\n",
       "       [13., 14., 15., 16.]])"
      ]
     },
     "execution_count": 39,
     "metadata": {},
     "output_type": "execute_result"
    }
   ],
   "source": [
    "np.add(a,e) # Sume"
   ]
  },
  {
   "cell_type": "code",
   "execution_count": 40,
   "id": "a94bbdd3",
   "metadata": {},
   "outputs": [
    {
     "data": {
      "text/plain": [
       "array([[-1.,  0.,  1.,  2.],\n",
       "       [ 3.,  4.,  5.,  6.],\n",
       "       [ 7.,  8.,  9., 10.],\n",
       "       [11., 12., 13., 14.]])"
      ]
     },
     "execution_count": 40,
     "metadata": {},
     "output_type": "execute_result"
    }
   ],
   "source": [
    "np.subtract(a,e) # Resta"
   ]
  },
  {
   "cell_type": "code",
   "execution_count": 41,
   "id": "9b76fbcf",
   "metadata": {},
   "outputs": [
    {
     "data": {
      "text/plain": [
       "array([[ 0.,  1.,  2.,  3.],\n",
       "       [ 4.,  5.,  6.,  7.],\n",
       "       [ 8.,  9., 10., 11.],\n",
       "       [12., 13., 14., 15.]])"
      ]
     },
     "execution_count": 41,
     "metadata": {},
     "output_type": "execute_result"
    }
   ],
   "source": [
    "np.divide(a,e) # Division"
   ]
  },
  {
   "cell_type": "code",
   "execution_count": 42,
   "id": "53c5acbd",
   "metadata": {},
   "outputs": [
    {
     "data": {
      "text/plain": [
       "array([[ 0.,  1.,  2.,  3.],\n",
       "       [ 4.,  5.,  6.,  7.],\n",
       "       [ 8.,  9., 10., 11.],\n",
       "       [12., 13., 14., 15.]])"
      ]
     },
     "execution_count": 42,
     "metadata": {},
     "output_type": "execute_result"
    }
   ],
   "source": [
    "np.multiply(a,e) # Multiplicacion"
   ]
  },
  {
   "cell_type": "code",
   "execution_count": 43,
   "id": "752dfb7f",
   "metadata": {},
   "outputs": [
    {
     "data": {
      "text/plain": [
       "False"
      ]
     },
     "execution_count": 43,
     "metadata": {},
     "output_type": "execute_result"
    }
   ],
   "source": [
    "np.array_equal(a,e) # Comparison, nos da un booleano si son iguales o no"
   ]
  },
  {
   "cell_type": "code",
   "execution_count": 44,
   "id": "23ef74df",
   "metadata": {},
   "outputs": [
    {
     "data": {
      "text/plain": [
       "True"
      ]
     },
     "execution_count": 44,
     "metadata": {},
     "output_type": "execute_result"
    }
   ],
   "source": [
    "np.array_equal(a,a)"
   ]
  },
  {
   "cell_type": "markdown",
   "id": "6eccd5aa",
   "metadata": {},
   "source": [
    "### Funciones Agregadas"
   ]
  },
  {
   "cell_type": "code",
   "execution_count": 47,
   "id": "0efc02e6",
   "metadata": {},
   "outputs": [
    {
     "data": {
      "text/plain": [
       "120"
      ]
     },
     "execution_count": 47,
     "metadata": {},
     "output_type": "execute_result"
    }
   ],
   "source": [
    "a.sum() # Suma todos los valores del arreglo"
   ]
  },
  {
   "cell_type": "code",
   "execution_count": 48,
   "id": "b4c738a9",
   "metadata": {},
   "outputs": [
    {
     "data": {
      "text/plain": [
       "0"
      ]
     },
     "execution_count": 48,
     "metadata": {},
     "output_type": "execute_result"
    }
   ],
   "source": [
    "a.min() # Valor minimo del arreglo"
   ]
  },
  {
   "cell_type": "code",
   "execution_count": 49,
   "id": "66656b59",
   "metadata": {},
   "outputs": [
    {
     "data": {
      "text/plain": [
       "7.5"
      ]
     },
     "execution_count": 49,
     "metadata": {},
     "output_type": "execute_result"
    }
   ],
   "source": [
    "a.mean() # Promedio de todos los elementos"
   ]
  },
  {
   "cell_type": "code",
   "execution_count": 50,
   "id": "6b2b2403",
   "metadata": {},
   "outputs": [
    {
     "data": {
      "text/plain": [
       "array([12, 13, 14, 15])"
      ]
     },
     "execution_count": 50,
     "metadata": {},
     "output_type": "execute_result"
    }
   ],
   "source": [
    "a.max(axis=0) # Max value of array row"
   ]
  },
  {
   "cell_type": "code",
   "execution_count": 51,
   "id": "ff4b88a4",
   "metadata": {},
   "outputs": [
    {
     "data": {
      "text/plain": [
       "4.6097722286464435"
      ]
     },
     "execution_count": 51,
     "metadata": {},
     "output_type": "execute_result"
    }
   ],
   "source": [
    "np.std(a) # Desviacion estandar"
   ]
  },
  {
   "cell_type": "code",
   "execution_count": 52,
   "id": "d3880f8a",
   "metadata": {},
   "outputs": [
    {
     "data": {
      "text/plain": [
       "344.0"
      ]
     },
     "execution_count": 52,
     "metadata": {},
     "output_type": "execute_result"
    }
   ],
   "source": [
    "a.sum()-e.sum()+d.sum()*e.sum()"
   ]
  },
  {
   "cell_type": "code",
   "execution_count": 54,
   "id": "ccc15c05",
   "metadata": {},
   "outputs": [
    {
     "data": {
      "text/plain": [
       "array([ 3,  7, 11, 15])"
      ]
     },
     "execution_count": 54,
     "metadata": {},
     "output_type": "execute_result"
    }
   ],
   "source": [
    "a.max(axis=1)"
   ]
  },
  {
   "cell_type": "markdown",
   "id": "6b5607b2",
   "metadata": {},
   "source": [
    "### Subdivision de conjuntos, e indexacion"
   ]
  },
  {
   "cell_type": "code",
   "execution_count": 55,
   "id": "978ea8a3",
   "metadata": {},
   "outputs": [
    {
     "data": {
      "text/plain": [
       "6"
      ]
     },
     "execution_count": 55,
     "metadata": {},
     "output_type": "execute_result"
    }
   ],
   "source": [
    "a[1,2] # Podemos tomar elementos de cada arreglo, dando su posicion, columna y fila\n",
    "       #Primero fila y luego columna "
   ]
  },
  {
   "cell_type": "code",
   "execution_count": 56,
   "id": "cc567a40",
   "metadata": {},
   "outputs": [
    {
     "data": {
      "text/plain": [
       "array([[0, 1, 2, 3],\n",
       "       [4, 5, 6, 7]])"
      ]
     },
     "execution_count": 56,
     "metadata": {},
     "output_type": "execute_result"
    }
   ],
   "source": [
    "a[0:2] # Ahora seleccionamos las primeras 2 filas, no especificamos columnas asi que todas"
   ]
  },
  {
   "cell_type": "code",
   "execution_count": 58,
   "id": "f8f51ace",
   "metadata": {},
   "outputs": [
    {
     "data": {
      "text/plain": [
       "array([[0, 1, 2, 3],\n",
       "       [4, 5, 6, 7]])"
      ]
     },
     "execution_count": 58,
     "metadata": {},
     "output_type": "execute_result"
    }
   ],
   "source": [
    "a[:2] # Es igual si no ponemos el 0"
   ]
  },
  {
   "cell_type": "code",
   "execution_count": 59,
   "id": "99d4ffd3",
   "metadata": {},
   "outputs": [
    {
     "data": {
      "text/plain": [
       "array([[ 0,  1,  2,  3],\n",
       "       [ 4,  5,  6,  7],\n",
       "       [ 8,  9, 10, 11],\n",
       "       [12, 13, 14, 15]])"
      ]
     },
     "execution_count": 59,
     "metadata": {},
     "output_type": "execute_result"
    }
   ],
   "source": [
    "a[:4] "
   ]
  },
  {
   "cell_type": "code",
   "execution_count": 64,
   "id": "62bf1877",
   "metadata": {},
   "outputs": [
    {
     "data": {
      "text/plain": [
       "array([[12, 13, 14, 15]])"
      ]
     },
     "execution_count": 64,
     "metadata": {},
     "output_type": "execute_result"
    }
   ],
   "source": [
    "a[-1:] # Se puede seleccionar los elementos de la ultima fila"
   ]
  },
  {
   "cell_type": "code",
   "execution_count": 65,
   "id": "fc6c3368",
   "metadata": {},
   "outputs": [
    {
     "data": {
      "text/plain": [
       "array([0, 1])"
      ]
     },
     "execution_count": 65,
     "metadata": {},
     "output_type": "execute_result"
    }
   ],
   "source": [
    "a[a<2] # Podemos especificar las caracteristicas de los elementos que queremos y los pone en una fila"
   ]
  },
  {
   "cell_type": "code",
   "execution_count": 67,
   "id": "cdbfbf97",
   "metadata": {},
   "outputs": [
    {
     "data": {
      "text/plain": [
       "array([0, 1, 2, 3, 4, 5, 6, 7, 8])"
      ]
     },
     "execution_count": 67,
     "metadata": {},
     "output_type": "execute_result"
    }
   ],
   "source": [
    "a[a<9] "
   ]
  },
  {
   "cell_type": "code",
   "execution_count": 73,
   "id": "374df9d2",
   "metadata": {},
   "outputs": [],
   "source": [
    "f=a[:2]+a[:2]*4"
   ]
  },
  {
   "cell_type": "code",
   "execution_count": 78,
   "id": "a47c9b49",
   "metadata": {},
   "outputs": [
    {
     "data": {
      "text/plain": [
       "array([39, 44, 49, 54, 59, 64, 69])"
      ]
     },
     "execution_count": 78,
     "metadata": {},
     "output_type": "execute_result"
    }
   ],
   "source": [
    "f[f>0]+34"
   ]
  },
  {
   "cell_type": "code",
   "execution_count": 85,
   "id": "b28651e7",
   "metadata": {},
   "outputs": [
    {
     "data": {
      "text/plain": [
       "37"
      ]
     },
     "execution_count": 85,
     "metadata": {},
     "output_type": "execute_result"
    }
   ],
   "source": [
    "a[2,2]+23 +a[1,0]"
   ]
  },
  {
   "cell_type": "markdown",
   "id": "6d6ea21b",
   "metadata": {},
   "source": [
    "### Manipulacion de Arreglos"
   ]
  },
  {
   "cell_type": "code",
   "execution_count": 87,
   "id": "e6cf5b96",
   "metadata": {},
   "outputs": [
    {
     "data": {
      "text/plain": [
       "array([[ 0, 16, 32, 48],\n",
       "       [ 4, 20, 36, 52],\n",
       "       [ 8, 24, 40, 56],\n",
       "       [12, 28, 44, 60]])"
      ]
     },
     "execution_count": 87,
     "metadata": {},
     "output_type": "execute_result"
    }
   ],
   "source": [
    "np.transpose(a*4) # Podemos obtener la traspuesta de una matriz rapidamente"
   ]
  },
  {
   "cell_type": "code",
   "execution_count": 89,
   "id": "b747a729",
   "metadata": {},
   "outputs": [
    {
     "data": {
      "text/plain": [
       "array([[6., 6., 6.],\n",
       "       [6., 6., 6.],\n",
       "       [6., 6., 6.],\n",
       "       [6., 6., 6.],\n",
       "       [6., 6., 6.]])"
      ]
     },
     "execution_count": 89,
     "metadata": {},
     "output_type": "execute_result"
    }
   ],
   "source": [
    "np.transpose(d+5) # Podemos obtener la traspuesta de una matriz rapidamente"
   ]
  },
  {
   "cell_type": "code",
   "execution_count": 90,
   "id": "bfef4214",
   "metadata": {},
   "outputs": [
    {
     "data": {
      "text/plain": [
       "array([ 0,  1,  2,  3,  4,  5,  6,  7,  8,  9, 10, 11, 12, 13, 14, 15])"
      ]
     },
     "execution_count": 90,
     "metadata": {},
     "output_type": "execute_result"
    }
   ],
   "source": [
    "a.ravel() # \"Aplanamos la matriz\", literalmente"
   ]
  },
  {
   "cell_type": "code",
   "execution_count": 97,
   "id": "562c7e53",
   "metadata": {},
   "outputs": [
    {
     "data": {
      "text/plain": [
       "array([1., 1., 1., 1., 1., 1., 1., 1., 1., 1., 1., 1., 1., 1., 1.])"
      ]
     },
     "execution_count": 97,
     "metadata": {},
     "output_type": "execute_result"
    }
   ],
   "source": [
    "d.ravel()"
   ]
  },
  {
   "cell_type": "code",
   "execution_count": 108,
   "id": "da7fd1ac",
   "metadata": {},
   "outputs": [
    {
     "data": {
      "text/plain": [
       "array([[ 0,  1],\n",
       "       [ 2,  3],\n",
       "       [ 4,  5],\n",
       "       [ 6,  7],\n",
       "       [ 8,  9],\n",
       "       [10, 11],\n",
       "       [12, 13],\n",
       "       [14, 15]])"
      ]
     },
     "execution_count": 108,
     "metadata": {},
     "output_type": "execute_result"
    }
   ],
   "source": [
    "a.reshape(8,-2) # Podemos cambiar la forma del arreglo "
   ]
  },
  {
   "cell_type": "code",
   "execution_count": 111,
   "id": "f42815bf",
   "metadata": {},
   "outputs": [
    {
     "data": {
      "text/plain": [
       "array([ 0.,  1.,  2.,  3.,  4.,  5.,  6.,  7.,  8.,  9., 10., 11., 12.,\n",
       "       13., 14., 15.,  0.,  0.,  0.,  0.,  0.,  0.,  0.,  0.,  0.,  0.,\n",
       "        0.,  0.,  0.,  0.])"
      ]
     },
     "execution_count": 111,
     "metadata": {},
     "output_type": "execute_result"
    }
   ],
   "source": [
    "np.append(a,b) # Append añade items a el arreglo"
   ]
  },
  {
   "cell_type": "code",
   "execution_count": 116,
   "id": "c22d6cce",
   "metadata": {},
   "outputs": [
    {
     "data": {
      "text/plain": [
       "array([  0,   1,   2,   3,   4,   5,   6,   7,   8,   9,  10,  11,  12,\n",
       "        13,  14,  15, 900])"
      ]
     },
     "execution_count": 116,
     "metadata": {},
     "output_type": "execute_result"
    }
   ],
   "source": [
    "np.append(a,900) "
   ]
  },
  {
   "cell_type": "code",
   "execution_count": 121,
   "id": "9a4c1658",
   "metadata": {},
   "outputs": [
    {
     "data": {
      "text/plain": [
       "array([[ 0,  1,  2,  3],\n",
       "       [ 4,  5,  6,  7],\n",
       "       [ 8,  9, 10, 11],\n",
       "       [12, 13, 14, 15],\n",
       "       [ 0,  1,  2,  3],\n",
       "       [ 4,  5,  6,  7],\n",
       "       [ 8,  9, 10, 11],\n",
       "       [12, 13, 14, 15]])"
      ]
     },
     "execution_count": 121,
     "metadata": {},
     "output_type": "execute_result"
    }
   ],
   "source": [
    "np.concatenate((a,a)) # Concatena arreglos"
   ]
  },
  {
   "cell_type": "code",
   "execution_count": 127,
   "id": "e4bf4828",
   "metadata": {},
   "outputs": [
    {
     "data": {
      "text/plain": [
       "[array([[0, 1, 2, 3],\n",
       "        [4, 5, 6, 7]]),\n",
       " array([[ 8,  9, 10, 11],\n",
       "        [12, 13, 14, 15]])]"
      ]
     },
     "execution_count": 127,
     "metadata": {},
     "output_type": "execute_result"
    }
   ],
   "source": [
    "np.vsplit(a,2) # Divide el arreglo en 2 columnas o las qu le digas (si el numero de elementos se puede dividir)\n",
    "            # Lo hace por filas"
   ]
  },
  {
   "cell_type": "code",
   "execution_count": 128,
   "id": "cfaaa239",
   "metadata": {},
   "outputs": [
    {
     "data": {
      "text/plain": [
       "[array([[0, 1, 2, 3]]),\n",
       " array([[4, 5, 6, 7]]),\n",
       " array([[ 8,  9, 10, 11]]),\n",
       " array([[12, 13, 14, 15]])]"
      ]
     },
     "execution_count": 128,
     "metadata": {},
     "output_type": "execute_result"
    }
   ],
   "source": [
    "np.vsplit(a,4)"
   ]
  },
  {
   "cell_type": "code",
   "execution_count": 130,
   "id": "bd759a88",
   "metadata": {},
   "outputs": [
    {
     "data": {
      "text/plain": [
       "[array([[ 0],\n",
       "        [ 4],\n",
       "        [ 8],\n",
       "        [12]]),\n",
       " array([[ 1],\n",
       "        [ 5],\n",
       "        [ 9],\n",
       "        [13]]),\n",
       " array([[ 2],\n",
       "        [ 6],\n",
       "        [10],\n",
       "        [14]]),\n",
       " array([[ 3],\n",
       "        [ 7],\n",
       "        [11],\n",
       "        [15]])]"
      ]
     },
     "execution_count": 130,
     "metadata": {},
     "output_type": "execute_result"
    }
   ],
   "source": [
    "np.hsplit(a,4) # Ahora los divide por columnas"
   ]
  },
  {
   "cell_type": "code",
   "execution_count": 131,
   "id": "5630117f",
   "metadata": {},
   "outputs": [
    {
     "data": {
      "text/plain": [
       "[array([[ 0,  1],\n",
       "        [ 4,  5],\n",
       "        [ 8,  9],\n",
       "        [12, 13]]),\n",
       " array([[ 2,  3],\n",
       "        [ 6,  7],\n",
       "        [10, 11],\n",
       "        [14, 15]])]"
      ]
     },
     "execution_count": 131,
     "metadata": {},
     "output_type": "execute_result"
    }
   ],
   "source": [
    "np.hsplit(a,2)"
   ]
  },
  {
   "cell_type": "markdown",
   "id": "31214cc5",
   "metadata": {},
   "source": [
    "<a id='section12'></a>\n",
    "\n",
    "## 12. Pandas\n",
    "\n",
    "Pandas is an open source, BSD-licensed library providing high-performance, easy-to-use data structures and data analysis tools for the Python programming language.\n",
    "\n",
    "Pandas DataFrames are the most widely used in-memory representation of complex data collections within Python."
   ]
  },
  {
   "cell_type": "code",
   "execution_count": 2,
   "id": "bf7a89a4",
   "metadata": {},
   "outputs": [],
   "source": [
    "import pandas as pd"
   ]
  },
  {
   "cell_type": "markdown",
   "id": "599b5d1c",
   "metadata": {},
   "source": [
    "<a id='section12'></a>\n",
    "\n",
    "### Creacion de tablas de datos"
   ]
  },
  {
   "cell_type": "code",
   "execution_count": 7,
   "id": "6edb95be",
   "metadata": {},
   "outputs": [
    {
     "data": {
      "text/html": [
       "<div>\n",
       "<style scoped>\n",
       "    .dataframe tbody tr th:only-of-type {\n",
       "        vertical-align: middle;\n",
       "    }\n",
       "\n",
       "    .dataframe tbody tr th {\n",
       "        vertical-align: top;\n",
       "    }\n",
       "\n",
       "    .dataframe thead th {\n",
       "        text-align: right;\n",
       "    }\n",
       "</style>\n",
       "<table border=\"1\" class=\"dataframe\">\n",
       "  <thead>\n",
       "    <tr style=\"text-align: right;\">\n",
       "      <th></th>\n",
       "      <th>num_legs</th>\n",
       "      <th>num_wings</th>\n",
       "      <th>num_specimen_seen</th>\n",
       "    </tr>\n",
       "  </thead>\n",
       "  <tbody>\n",
       "    <tr>\n",
       "      <th>falcon</th>\n",
       "      <td>2</td>\n",
       "      <td>2</td>\n",
       "      <td>10.0</td>\n",
       "    </tr>\n",
       "    <tr>\n",
       "      <th>dog</th>\n",
       "      <td>4</td>\n",
       "      <td>0</td>\n",
       "      <td>NaN</td>\n",
       "    </tr>\n",
       "    <tr>\n",
       "      <th>spider</th>\n",
       "      <td>8</td>\n",
       "      <td>0</td>\n",
       "      <td>1.0</td>\n",
       "    </tr>\n",
       "    <tr>\n",
       "      <th>fish</th>\n",
       "      <td>0</td>\n",
       "      <td>0</td>\n",
       "      <td>8.0</td>\n",
       "    </tr>\n",
       "  </tbody>\n",
       "</table>\n",
       "</div>"
      ],
      "text/plain": [
       "        num_legs  num_wings  num_specimen_seen\n",
       "falcon         2          2               10.0\n",
       "dog            4          0                NaN\n",
       "spider         8          0                1.0\n",
       "fish           0          0                8.0"
      ]
     },
     "execution_count": 7,
     "metadata": {},
     "output_type": "execute_result"
    }
   ],
   "source": [
    "# Sample dataframe df\n",
    "df = pd.DataFrame({'num_legs': [2, 4, 8, 0],\n",
    "                   'num_wings': [2, 0, 0, 0],\n",
    "                   'num_specimen_seen': [10, np.nan, 1, 8]},\n",
    "                   index=['falcon', 'dog', 'spider', 'fish'])\n",
    "df # Display dataframe df"
   ]
  },
  {
   "cell_type": "code",
   "execution_count": 103,
   "id": "a48ff865",
   "metadata": {},
   "outputs": [
    {
     "data": {
      "text/html": [
       "<div>\n",
       "<style scoped>\n",
       "    .dataframe tbody tr th:only-of-type {\n",
       "        vertical-align: middle;\n",
       "    }\n",
       "\n",
       "    .dataframe tbody tr th {\n",
       "        vertical-align: top;\n",
       "    }\n",
       "\n",
       "    .dataframe thead th {\n",
       "        text-align: right;\n",
       "    }\n",
       "</style>\n",
       "<table border=\"1\" class=\"dataframe\">\n",
       "  <thead>\n",
       "    <tr style=\"text-align: right;\">\n",
       "      <th></th>\n",
       "      <th>Edad</th>\n",
       "      <th>calificacion</th>\n",
       "      <th>faltas</th>\n",
       "      <th>Estado</th>\n",
       "    </tr>\n",
       "  </thead>\n",
       "  <tbody>\n",
       "    <tr>\n",
       "      <th>Juan</th>\n",
       "      <td>21</td>\n",
       "      <td>4</td>\n",
       "      <td>5</td>\n",
       "      <td>muere</td>\n",
       "    </tr>\n",
       "    <tr>\n",
       "      <th>Pepe</th>\n",
       "      <td>22</td>\n",
       "      <td>8</td>\n",
       "      <td>1</td>\n",
       "      <td>vive</td>\n",
       "    </tr>\n",
       "    <tr>\n",
       "      <th>Francisco</th>\n",
       "      <td>18</td>\n",
       "      <td>7</td>\n",
       "      <td>3</td>\n",
       "      <td>vive</td>\n",
       "    </tr>\n",
       "    <tr>\n",
       "      <th>Alejandra</th>\n",
       "      <td>19</td>\n",
       "      <td>9</td>\n",
       "      <td>2</td>\n",
       "      <td>vive</td>\n",
       "    </tr>\n",
       "    <tr>\n",
       "      <th>Mick</th>\n",
       "      <td>23</td>\n",
       "      <td>10</td>\n",
       "      <td>2</td>\n",
       "      <td>vive</td>\n",
       "    </tr>\n",
       "    <tr>\n",
       "      <th>Maya</th>\n",
       "      <td>20</td>\n",
       "      <td>5</td>\n",
       "      <td>7</td>\n",
       "      <td>muere</td>\n",
       "    </tr>\n",
       "  </tbody>\n",
       "</table>\n",
       "</div>"
      ],
      "text/plain": [
       "           Edad  calificacion  faltas Estado\n",
       "Juan         21             4       5  muere\n",
       "Pepe         22             8       1   vive\n",
       "Francisco    18             7       3   vive\n",
       "Alejandra    19             9       2   vive\n",
       "Mick         23            10       2   vive\n",
       "Maya         20             5       7  muere"
      ]
     },
     "execution_count": 103,
     "metadata": {},
     "output_type": "execute_result"
    }
   ],
   "source": [
    "# O podemos hacer un horario\n",
    "H = pd.DataFrame({'Edad': [21, 22, 18, 19,23,20],\n",
    "                   'calificacion': [4, 8, 7, 9,10,5],\n",
    "                   'faltas': [5, 1, 3, 2,2,7],\n",
    "                    'Estado': ['muere', 'vive', 'vive', 'vive','vive','muere']},\n",
    "                   index=['Juan', 'Pepe', 'Francisco', 'Alejandra','Mick','Maya'])\n",
    "H"
   ]
  },
  {
   "cell_type": "code",
   "execution_count": 8,
   "id": "424b395f",
   "metadata": {},
   "outputs": [
    {
     "data": {
      "text/html": [
       "<div>\n",
       "<style scoped>\n",
       "    .dataframe tbody tr th:only-of-type {\n",
       "        vertical-align: middle;\n",
       "    }\n",
       "\n",
       "    .dataframe tbody tr th {\n",
       "        vertical-align: top;\n",
       "    }\n",
       "\n",
       "    .dataframe thead th {\n",
       "        text-align: right;\n",
       "    }\n",
       "</style>\n",
       "<table border=\"1\" class=\"dataframe\">\n",
       "  <thead>\n",
       "    <tr style=\"text-align: right;\">\n",
       "      <th></th>\n",
       "      <th>A</th>\n",
       "      <th>B</th>\n",
       "      <th>C</th>\n",
       "      <th>D</th>\n",
       "    </tr>\n",
       "  </thead>\n",
       "  <tbody>\n",
       "    <tr>\n",
       "      <th>2013-01-01</th>\n",
       "      <td>0.144546</td>\n",
       "      <td>0.224327</td>\n",
       "      <td>-0.736298</td>\n",
       "      <td>1.234406</td>\n",
       "    </tr>\n",
       "    <tr>\n",
       "      <th>2013-01-02</th>\n",
       "      <td>0.589922</td>\n",
       "      <td>-1.154787</td>\n",
       "      <td>0.679473</td>\n",
       "      <td>-1.107948</td>\n",
       "    </tr>\n",
       "    <tr>\n",
       "      <th>2013-01-03</th>\n",
       "      <td>-0.459131</td>\n",
       "      <td>-0.553458</td>\n",
       "      <td>-0.656002</td>\n",
       "      <td>-1.707968</td>\n",
       "    </tr>\n",
       "    <tr>\n",
       "      <th>2013-01-04</th>\n",
       "      <td>-0.053799</td>\n",
       "      <td>1.625758</td>\n",
       "      <td>1.259411</td>\n",
       "      <td>-0.050464</td>\n",
       "    </tr>\n",
       "    <tr>\n",
       "      <th>2013-01-05</th>\n",
       "      <td>-1.385904</td>\n",
       "      <td>-0.185767</td>\n",
       "      <td>-1.219523</td>\n",
       "      <td>-1.684527</td>\n",
       "    </tr>\n",
       "    <tr>\n",
       "      <th>2013-01-06</th>\n",
       "      <td>0.405478</td>\n",
       "      <td>1.031412</td>\n",
       "      <td>0.686121</td>\n",
       "      <td>0.008904</td>\n",
       "    </tr>\n",
       "  </tbody>\n",
       "</table>\n",
       "</div>"
      ],
      "text/plain": [
       "                   A         B         C         D\n",
       "2013-01-01  0.144546  0.224327 -0.736298  1.234406\n",
       "2013-01-02  0.589922 -1.154787  0.679473 -1.107948\n",
       "2013-01-03 -0.459131 -0.553458 -0.656002 -1.707968\n",
       "2013-01-04 -0.053799  1.625758  1.259411 -0.050464\n",
       "2013-01-05 -1.385904 -0.185767 -1.219523 -1.684527\n",
       "2013-01-06  0.405478  1.031412  0.686121  0.008904"
      ]
     },
     "execution_count": 8,
     "metadata": {},
     "output_type": "execute_result"
    }
   ],
   "source": [
    "# Another sample dataframe df1 - using NumPy array with datetime index and labeled column\n",
    "df1 = pd.date_range('20130101', periods=6)\n",
    "df1 = pd.DataFrame(np.random.randn(6, 4), index=df1, columns=list('ABCD'))\n",
    "df1 # Display dataframe df1"
   ]
  },
  {
   "cell_type": "code",
   "execution_count": 133,
   "id": "30bf1f7c",
   "metadata": {},
   "outputs": [
    {
     "data": {
      "text/html": [
       "<div>\n",
       "<style scoped>\n",
       "    .dataframe tbody tr th:only-of-type {\n",
       "        vertical-align: middle;\n",
       "    }\n",
       "\n",
       "    .dataframe tbody tr th {\n",
       "        vertical-align: top;\n",
       "    }\n",
       "\n",
       "    .dataframe thead th {\n",
       "        text-align: right;\n",
       "    }\n",
       "</style>\n",
       "<table border=\"1\" class=\"dataframe\">\n",
       "  <thead>\n",
       "    <tr style=\"text-align: right;\">\n",
       "      <th></th>\n",
       "      <th>1</th>\n",
       "      <th>2</th>\n",
       "      <th>3</th>\n",
       "      <th>4</th>\n",
       "      <th>5</th>\n",
       "    </tr>\n",
       "  </thead>\n",
       "  <tbody>\n",
       "    <tr>\n",
       "      <th>2022-08-01</th>\n",
       "      <td>-1.853520</td>\n",
       "      <td>0.035289</td>\n",
       "      <td>-0.583985</td>\n",
       "      <td>1.597859</td>\n",
       "      <td>0.136106</td>\n",
       "    </tr>\n",
       "    <tr>\n",
       "      <th>2022-08-02</th>\n",
       "      <td>-0.343554</td>\n",
       "      <td>1.124024</td>\n",
       "      <td>0.072244</td>\n",
       "      <td>1.324037</td>\n",
       "      <td>-0.438899</td>\n",
       "    </tr>\n",
       "    <tr>\n",
       "      <th>2022-08-03</th>\n",
       "      <td>0.089424</td>\n",
       "      <td>-0.224617</td>\n",
       "      <td>1.531211</td>\n",
       "      <td>-0.660423</td>\n",
       "      <td>-0.993606</td>\n",
       "    </tr>\n",
       "    <tr>\n",
       "      <th>2022-08-04</th>\n",
       "      <td>0.875298</td>\n",
       "      <td>-0.430868</td>\n",
       "      <td>-1.438129</td>\n",
       "      <td>0.244782</td>\n",
       "      <td>0.212344</td>\n",
       "    </tr>\n",
       "    <tr>\n",
       "      <th>2022-08-05</th>\n",
       "      <td>0.967355</td>\n",
       "      <td>-2.016191</td>\n",
       "      <td>-0.819926</td>\n",
       "      <td>0.890672</td>\n",
       "      <td>0.512022</td>\n",
       "    </tr>\n",
       "    <tr>\n",
       "      <th>2022-08-06</th>\n",
       "      <td>-0.620530</td>\n",
       "      <td>1.704001</td>\n",
       "      <td>0.188585</td>\n",
       "      <td>0.161205</td>\n",
       "      <td>-0.508306</td>\n",
       "    </tr>\n",
       "    <tr>\n",
       "      <th>2022-08-07</th>\n",
       "      <td>1.495515</td>\n",
       "      <td>-2.589976</td>\n",
       "      <td>-0.311577</td>\n",
       "      <td>0.088858</td>\n",
       "      <td>0.205127</td>\n",
       "    </tr>\n",
       "    <tr>\n",
       "      <th>2022-08-08</th>\n",
       "      <td>0.034565</td>\n",
       "      <td>-0.479824</td>\n",
       "      <td>-0.545311</td>\n",
       "      <td>0.861160</td>\n",
       "      <td>1.104574</td>\n",
       "    </tr>\n",
       "    <tr>\n",
       "      <th>2022-08-09</th>\n",
       "      <td>0.427600</td>\n",
       "      <td>0.898019</td>\n",
       "      <td>-2.059526</td>\n",
       "      <td>-0.845520</td>\n",
       "      <td>-0.888151</td>\n",
       "    </tr>\n",
       "    <tr>\n",
       "      <th>2022-08-10</th>\n",
       "      <td>0.449538</td>\n",
       "      <td>0.322326</td>\n",
       "      <td>0.634985</td>\n",
       "      <td>0.750098</td>\n",
       "      <td>-0.060208</td>\n",
       "    </tr>\n",
       "    <tr>\n",
       "      <th>2022-08-11</th>\n",
       "      <td>0.936697</td>\n",
       "      <td>0.171819</td>\n",
       "      <td>-1.336127</td>\n",
       "      <td>0.276512</td>\n",
       "      <td>0.943744</td>\n",
       "    </tr>\n",
       "    <tr>\n",
       "      <th>2022-08-12</th>\n",
       "      <td>-1.178150</td>\n",
       "      <td>-1.230097</td>\n",
       "      <td>0.855232</td>\n",
       "      <td>0.641661</td>\n",
       "      <td>0.338207</td>\n",
       "    </tr>\n",
       "    <tr>\n",
       "      <th>2022-08-13</th>\n",
       "      <td>0.666933</td>\n",
       "      <td>0.205519</td>\n",
       "      <td>-0.344339</td>\n",
       "      <td>-0.811595</td>\n",
       "      <td>-1.644560</td>\n",
       "    </tr>\n",
       "    <tr>\n",
       "      <th>2022-08-14</th>\n",
       "      <td>0.158502</td>\n",
       "      <td>-1.553087</td>\n",
       "      <td>0.464243</td>\n",
       "      <td>-0.032226</td>\n",
       "      <td>0.177280</td>\n",
       "    </tr>\n",
       "    <tr>\n",
       "      <th>2022-08-15</th>\n",
       "      <td>-0.944979</td>\n",
       "      <td>1.535351</td>\n",
       "      <td>0.703089</td>\n",
       "      <td>-1.545084</td>\n",
       "      <td>-0.453145</td>\n",
       "    </tr>\n",
       "    <tr>\n",
       "      <th>2022-08-16</th>\n",
       "      <td>1.393315</td>\n",
       "      <td>1.326717</td>\n",
       "      <td>1.209516</td>\n",
       "      <td>-0.653446</td>\n",
       "      <td>0.178541</td>\n",
       "    </tr>\n",
       "    <tr>\n",
       "      <th>2022-08-17</th>\n",
       "      <td>-1.480932</td>\n",
       "      <td>-1.087054</td>\n",
       "      <td>1.328462</td>\n",
       "      <td>0.677939</td>\n",
       "      <td>0.875616</td>\n",
       "    </tr>\n",
       "    <tr>\n",
       "      <th>2022-08-18</th>\n",
       "      <td>2.186244</td>\n",
       "      <td>0.112767</td>\n",
       "      <td>-0.691196</td>\n",
       "      <td>0.877749</td>\n",
       "      <td>0.300328</td>\n",
       "    </tr>\n",
       "    <tr>\n",
       "      <th>2022-08-19</th>\n",
       "      <td>0.000852</td>\n",
       "      <td>-0.340618</td>\n",
       "      <td>-0.979350</td>\n",
       "      <td>0.832823</td>\n",
       "      <td>1.379888</td>\n",
       "    </tr>\n",
       "    <tr>\n",
       "      <th>2022-08-20</th>\n",
       "      <td>-1.253033</td>\n",
       "      <td>2.543790</td>\n",
       "      <td>0.540339</td>\n",
       "      <td>-0.064467</td>\n",
       "      <td>-1.030393</td>\n",
       "    </tr>\n",
       "    <tr>\n",
       "      <th>2022-08-21</th>\n",
       "      <td>1.025442</td>\n",
       "      <td>-1.359610</td>\n",
       "      <td>-0.675374</td>\n",
       "      <td>-1.487600</td>\n",
       "      <td>0.046235</td>\n",
       "    </tr>\n",
       "    <tr>\n",
       "      <th>2022-08-22</th>\n",
       "      <td>0.062826</td>\n",
       "      <td>-1.054001</td>\n",
       "      <td>1.692946</td>\n",
       "      <td>0.311672</td>\n",
       "      <td>0.116584</td>\n",
       "    </tr>\n",
       "    <tr>\n",
       "      <th>2022-08-23</th>\n",
       "      <td>-1.040560</td>\n",
       "      <td>-1.924979</td>\n",
       "      <td>0.110878</td>\n",
       "      <td>-0.180237</td>\n",
       "      <td>-0.487682</td>\n",
       "    </tr>\n",
       "    <tr>\n",
       "      <th>2022-08-24</th>\n",
       "      <td>0.021434</td>\n",
       "      <td>-1.863772</td>\n",
       "      <td>-0.135390</td>\n",
       "      <td>1.235439</td>\n",
       "      <td>0.426288</td>\n",
       "    </tr>\n",
       "    <tr>\n",
       "      <th>2022-08-25</th>\n",
       "      <td>2.184322</td>\n",
       "      <td>1.589919</td>\n",
       "      <td>1.181716</td>\n",
       "      <td>1.340144</td>\n",
       "      <td>-0.102374</td>\n",
       "    </tr>\n",
       "    <tr>\n",
       "      <th>2022-08-26</th>\n",
       "      <td>0.218649</td>\n",
       "      <td>0.888761</td>\n",
       "      <td>0.583470</td>\n",
       "      <td>1.132879</td>\n",
       "      <td>1.034390</td>\n",
       "    </tr>\n",
       "    <tr>\n",
       "      <th>2022-08-27</th>\n",
       "      <td>1.193761</td>\n",
       "      <td>1.113310</td>\n",
       "      <td>0.151889</td>\n",
       "      <td>-0.909303</td>\n",
       "      <td>0.684960</td>\n",
       "    </tr>\n",
       "    <tr>\n",
       "      <th>2022-08-28</th>\n",
       "      <td>0.967111</td>\n",
       "      <td>-0.212606</td>\n",
       "      <td>0.485766</td>\n",
       "      <td>1.919488</td>\n",
       "      <td>0.106638</td>\n",
       "    </tr>\n",
       "    <tr>\n",
       "      <th>2022-08-29</th>\n",
       "      <td>-0.271520</td>\n",
       "      <td>0.153043</td>\n",
       "      <td>-0.299564</td>\n",
       "      <td>-0.432806</td>\n",
       "      <td>0.721694</td>\n",
       "    </tr>\n",
       "    <tr>\n",
       "      <th>2022-08-30</th>\n",
       "      <td>0.929283</td>\n",
       "      <td>-1.224265</td>\n",
       "      <td>-0.533730</td>\n",
       "      <td>-1.044286</td>\n",
       "      <td>-0.157266</td>\n",
       "    </tr>\n",
       "    <tr>\n",
       "      <th>2022-08-31</th>\n",
       "      <td>0.445982</td>\n",
       "      <td>-0.380757</td>\n",
       "      <td>0.960856</td>\n",
       "      <td>0.092463</td>\n",
       "      <td>0.238589</td>\n",
       "    </tr>\n",
       "  </tbody>\n",
       "</table>\n",
       "</div>"
      ],
      "text/plain": [
       "                   1         2         3         4         5\n",
       "2022-08-01 -1.853520  0.035289 -0.583985  1.597859  0.136106\n",
       "2022-08-02 -0.343554  1.124024  0.072244  1.324037 -0.438899\n",
       "2022-08-03  0.089424 -0.224617  1.531211 -0.660423 -0.993606\n",
       "2022-08-04  0.875298 -0.430868 -1.438129  0.244782  0.212344\n",
       "2022-08-05  0.967355 -2.016191 -0.819926  0.890672  0.512022\n",
       "2022-08-06 -0.620530  1.704001  0.188585  0.161205 -0.508306\n",
       "2022-08-07  1.495515 -2.589976 -0.311577  0.088858  0.205127\n",
       "2022-08-08  0.034565 -0.479824 -0.545311  0.861160  1.104574\n",
       "2022-08-09  0.427600  0.898019 -2.059526 -0.845520 -0.888151\n",
       "2022-08-10  0.449538  0.322326  0.634985  0.750098 -0.060208\n",
       "2022-08-11  0.936697  0.171819 -1.336127  0.276512  0.943744\n",
       "2022-08-12 -1.178150 -1.230097  0.855232  0.641661  0.338207\n",
       "2022-08-13  0.666933  0.205519 -0.344339 -0.811595 -1.644560\n",
       "2022-08-14  0.158502 -1.553087  0.464243 -0.032226  0.177280\n",
       "2022-08-15 -0.944979  1.535351  0.703089 -1.545084 -0.453145\n",
       "2022-08-16  1.393315  1.326717  1.209516 -0.653446  0.178541\n",
       "2022-08-17 -1.480932 -1.087054  1.328462  0.677939  0.875616\n",
       "2022-08-18  2.186244  0.112767 -0.691196  0.877749  0.300328\n",
       "2022-08-19  0.000852 -0.340618 -0.979350  0.832823  1.379888\n",
       "2022-08-20 -1.253033  2.543790  0.540339 -0.064467 -1.030393\n",
       "2022-08-21  1.025442 -1.359610 -0.675374 -1.487600  0.046235\n",
       "2022-08-22  0.062826 -1.054001  1.692946  0.311672  0.116584\n",
       "2022-08-23 -1.040560 -1.924979  0.110878 -0.180237 -0.487682\n",
       "2022-08-24  0.021434 -1.863772 -0.135390  1.235439  0.426288\n",
       "2022-08-25  2.184322  1.589919  1.181716  1.340144 -0.102374\n",
       "2022-08-26  0.218649  0.888761  0.583470  1.132879  1.034390\n",
       "2022-08-27  1.193761  1.113310  0.151889 -0.909303  0.684960\n",
       "2022-08-28  0.967111 -0.212606  0.485766  1.919488  0.106638\n",
       "2022-08-29 -0.271520  0.153043 -0.299564 -0.432806  0.721694\n",
       "2022-08-30  0.929283 -1.224265 -0.533730 -1.044286 -0.157266\n",
       "2022-08-31  0.445982 -0.380757  0.960856  0.092463  0.238589"
      ]
     },
     "execution_count": 133,
     "metadata": {},
     "output_type": "execute_result"
    }
   ],
   "source": [
    "# Podemos hacer algo mas grande\n",
    "df1 = pd.date_range('20220801', periods=31)\n",
    "df1 = pd.DataFrame(np.random.randn(31, 5), index=df1, columns=list('12345'))\n",
    "df1 "
   ]
  },
  {
   "cell_type": "markdown",
   "id": "2eec9ac3",
   "metadata": {},
   "source": [
    "<a id='section12'></a>\n",
    "\n",
    "### Visualizacion de datos"
   ]
  },
  {
   "cell_type": "code",
   "execution_count": 21,
   "id": "570e4dbc",
   "metadata": {},
   "outputs": [
    {
     "data": {
      "text/html": [
       "<div>\n",
       "<style scoped>\n",
       "    .dataframe tbody tr th:only-of-type {\n",
       "        vertical-align: middle;\n",
       "    }\n",
       "\n",
       "    .dataframe tbody tr th {\n",
       "        vertical-align: top;\n",
       "    }\n",
       "\n",
       "    .dataframe thead th {\n",
       "        text-align: right;\n",
       "    }\n",
       "</style>\n",
       "<table border=\"1\" class=\"dataframe\">\n",
       "  <thead>\n",
       "    <tr style=\"text-align: right;\">\n",
       "      <th></th>\n",
       "      <th>1</th>\n",
       "      <th>2</th>\n",
       "      <th>3</th>\n",
       "      <th>4</th>\n",
       "      <th>5</th>\n",
       "    </tr>\n",
       "  </thead>\n",
       "  <tbody>\n",
       "    <tr>\n",
       "      <th>2022-08-01</th>\n",
       "      <td>0.428829</td>\n",
       "      <td>0.757508</td>\n",
       "      <td>-0.128815</td>\n",
       "      <td>-1.050941</td>\n",
       "      <td>-0.918435</td>\n",
       "    </tr>\n",
       "    <tr>\n",
       "      <th>2022-08-02</th>\n",
       "      <td>-0.043779</td>\n",
       "      <td>-1.741650</td>\n",
       "      <td>0.441155</td>\n",
       "      <td>-0.491686</td>\n",
       "      <td>0.328184</td>\n",
       "    </tr>\n",
       "    <tr>\n",
       "      <th>2022-08-03</th>\n",
       "      <td>-0.429338</td>\n",
       "      <td>-1.207017</td>\n",
       "      <td>-0.105257</td>\n",
       "      <td>-1.477474</td>\n",
       "      <td>0.257354</td>\n",
       "    </tr>\n",
       "    <tr>\n",
       "      <th>2022-08-04</th>\n",
       "      <td>-1.423764</td>\n",
       "      <td>0.289332</td>\n",
       "      <td>0.015848</td>\n",
       "      <td>-0.731056</td>\n",
       "      <td>1.284753</td>\n",
       "    </tr>\n",
       "    <tr>\n",
       "      <th>2022-08-05</th>\n",
       "      <td>-1.543546</td>\n",
       "      <td>-0.475733</td>\n",
       "      <td>0.569923</td>\n",
       "      <td>-0.599208</td>\n",
       "      <td>-0.225994</td>\n",
       "    </tr>\n",
       "  </tbody>\n",
       "</table>\n",
       "</div>"
      ],
      "text/plain": [
       "                   1         2         3         4         5\n",
       "2022-08-01  0.428829  0.757508 -0.128815 -1.050941 -0.918435\n",
       "2022-08-02 -0.043779 -1.741650  0.441155 -0.491686  0.328184\n",
       "2022-08-03 -0.429338 -1.207017 -0.105257 -1.477474  0.257354\n",
       "2022-08-04 -1.423764  0.289332  0.015848 -0.731056  1.284753\n",
       "2022-08-05 -1.543546 -0.475733  0.569923 -0.599208 -0.225994"
      ]
     },
     "execution_count": 21,
     "metadata": {},
     "output_type": "execute_result"
    }
   ],
   "source": [
    "df1.head(5) # View top data"
   ]
  },
  {
   "cell_type": "code",
   "execution_count": 20,
   "id": "91253599",
   "metadata": {},
   "outputs": [
    {
     "data": {
      "text/html": [
       "<div>\n",
       "<style scoped>\n",
       "    .dataframe tbody tr th:only-of-type {\n",
       "        vertical-align: middle;\n",
       "    }\n",
       "\n",
       "    .dataframe tbody tr th {\n",
       "        vertical-align: top;\n",
       "    }\n",
       "\n",
       "    .dataframe thead th {\n",
       "        text-align: right;\n",
       "    }\n",
       "</style>\n",
       "<table border=\"1\" class=\"dataframe\">\n",
       "  <thead>\n",
       "    <tr style=\"text-align: right;\">\n",
       "      <th></th>\n",
       "      <th>1</th>\n",
       "      <th>2</th>\n",
       "      <th>3</th>\n",
       "      <th>4</th>\n",
       "      <th>5</th>\n",
       "    </tr>\n",
       "  </thead>\n",
       "  <tbody>\n",
       "    <tr>\n",
       "      <th>2022-08-26</th>\n",
       "      <td>1.977573</td>\n",
       "      <td>0.527652</td>\n",
       "      <td>-1.432678</td>\n",
       "      <td>-0.461023</td>\n",
       "      <td>1.088202</td>\n",
       "    </tr>\n",
       "    <tr>\n",
       "      <th>2022-08-27</th>\n",
       "      <td>-1.662897</td>\n",
       "      <td>0.433377</td>\n",
       "      <td>2.113446</td>\n",
       "      <td>0.993611</td>\n",
       "      <td>-0.050496</td>\n",
       "    </tr>\n",
       "    <tr>\n",
       "      <th>2022-08-28</th>\n",
       "      <td>1.099707</td>\n",
       "      <td>0.818064</td>\n",
       "      <td>-0.895999</td>\n",
       "      <td>-1.418657</td>\n",
       "      <td>-0.654525</td>\n",
       "    </tr>\n",
       "    <tr>\n",
       "      <th>2022-08-29</th>\n",
       "      <td>-1.563566</td>\n",
       "      <td>-0.540636</td>\n",
       "      <td>0.141844</td>\n",
       "      <td>0.277233</td>\n",
       "      <td>0.352356</td>\n",
       "    </tr>\n",
       "    <tr>\n",
       "      <th>2022-08-30</th>\n",
       "      <td>0.453790</td>\n",
       "      <td>-0.667564</td>\n",
       "      <td>-0.443009</td>\n",
       "      <td>-0.824082</td>\n",
       "      <td>0.635130</td>\n",
       "    </tr>\n",
       "    <tr>\n",
       "      <th>2022-08-31</th>\n",
       "      <td>0.412706</td>\n",
       "      <td>-0.972684</td>\n",
       "      <td>1.936953</td>\n",
       "      <td>1.203756</td>\n",
       "      <td>-0.664563</td>\n",
       "    </tr>\n",
       "  </tbody>\n",
       "</table>\n",
       "</div>"
      ],
      "text/plain": [
       "                   1         2         3         4         5\n",
       "2022-08-26  1.977573  0.527652 -1.432678 -0.461023  1.088202\n",
       "2022-08-27 -1.662897  0.433377  2.113446  0.993611 -0.050496\n",
       "2022-08-28  1.099707  0.818064 -0.895999 -1.418657 -0.654525\n",
       "2022-08-29 -1.563566 -0.540636  0.141844  0.277233  0.352356\n",
       "2022-08-30  0.453790 -0.667564 -0.443009 -0.824082  0.635130\n",
       "2022-08-31  0.412706 -0.972684  1.936953  1.203756 -0.664563"
      ]
     },
     "execution_count": 20,
     "metadata": {},
     "output_type": "execute_result"
    }
   ],
   "source": [
    "df1.tail(6) # View bottom data"
   ]
  },
  {
   "cell_type": "code",
   "execution_count": 22,
   "id": "3b2a6b72",
   "metadata": {},
   "outputs": [
    {
     "data": {
      "text/plain": [
       "DatetimeIndex(['2022-08-01', '2022-08-02', '2022-08-03', '2022-08-04',\n",
       "               '2022-08-05', '2022-08-06', '2022-08-07', '2022-08-08',\n",
       "               '2022-08-09', '2022-08-10', '2022-08-11', '2022-08-12',\n",
       "               '2022-08-13', '2022-08-14', '2022-08-15', '2022-08-16',\n",
       "               '2022-08-17', '2022-08-18', '2022-08-19', '2022-08-20',\n",
       "               '2022-08-21', '2022-08-22', '2022-08-23', '2022-08-24',\n",
       "               '2022-08-25', '2022-08-26', '2022-08-27', '2022-08-28',\n",
       "               '2022-08-29', '2022-08-30', '2022-08-31'],\n",
       "              dtype='datetime64[ns]', freq='D')"
      ]
     },
     "execution_count": 22,
     "metadata": {},
     "output_type": "execute_result"
    }
   ],
   "source": [
    "df1.index # Display index column"
   ]
  },
  {
   "cell_type": "code",
   "execution_count": 23,
   "id": "0035418c",
   "metadata": {},
   "outputs": [
    {
     "data": {
      "text/plain": [
       "1    float64\n",
       "2    float64\n",
       "3    float64\n",
       "4    float64\n",
       "5    float64\n",
       "dtype: object"
      ]
     },
     "execution_count": 23,
     "metadata": {},
     "output_type": "execute_result"
    }
   ],
   "source": [
    "df1.dtypes # Inspect datatypes"
   ]
  },
  {
   "cell_type": "code",
   "execution_count": 24,
   "id": "9a6729ee",
   "metadata": {},
   "outputs": [
    {
     "data": {
      "text/html": [
       "<div>\n",
       "<style scoped>\n",
       "    .dataframe tbody tr th:only-of-type {\n",
       "        vertical-align: middle;\n",
       "    }\n",
       "\n",
       "    .dataframe tbody tr th {\n",
       "        vertical-align: top;\n",
       "    }\n",
       "\n",
       "    .dataframe thead th {\n",
       "        text-align: right;\n",
       "    }\n",
       "</style>\n",
       "<table border=\"1\" class=\"dataframe\">\n",
       "  <thead>\n",
       "    <tr style=\"text-align: right;\">\n",
       "      <th></th>\n",
       "      <th>1</th>\n",
       "      <th>2</th>\n",
       "      <th>3</th>\n",
       "      <th>4</th>\n",
       "      <th>5</th>\n",
       "    </tr>\n",
       "  </thead>\n",
       "  <tbody>\n",
       "    <tr>\n",
       "      <th>count</th>\n",
       "      <td>31.000000</td>\n",
       "      <td>31.000000</td>\n",
       "      <td>31.000000</td>\n",
       "      <td>31.000000</td>\n",
       "      <td>31.000000</td>\n",
       "    </tr>\n",
       "    <tr>\n",
       "      <th>mean</th>\n",
       "      <td>-0.190371</td>\n",
       "      <td>-0.243153</td>\n",
       "      <td>-0.006128</td>\n",
       "      <td>-0.007206</td>\n",
       "      <td>-0.107351</td>\n",
       "    </tr>\n",
       "    <tr>\n",
       "      <th>std</th>\n",
       "      <td>1.060999</td>\n",
       "      <td>0.990829</td>\n",
       "      <td>0.903523</td>\n",
       "      <td>0.922563</td>\n",
       "      <td>0.950172</td>\n",
       "    </tr>\n",
       "    <tr>\n",
       "      <th>min</th>\n",
       "      <td>-2.100891</td>\n",
       "      <td>-1.958653</td>\n",
       "      <td>-1.432678</td>\n",
       "      <td>-1.744373</td>\n",
       "      <td>-2.400659</td>\n",
       "    </tr>\n",
       "    <tr>\n",
       "      <th>25%</th>\n",
       "      <td>-1.013646</td>\n",
       "      <td>-0.761417</td>\n",
       "      <td>-0.642664</td>\n",
       "      <td>-0.665132</td>\n",
       "      <td>-0.659544</td>\n",
       "    </tr>\n",
       "    <tr>\n",
       "      <th>50%</th>\n",
       "      <td>-0.043779</td>\n",
       "      <td>-0.475733</td>\n",
       "      <td>-0.105257</td>\n",
       "      <td>-0.116196</td>\n",
       "      <td>-0.262406</td>\n",
       "    </tr>\n",
       "    <tr>\n",
       "      <th>75%</th>\n",
       "      <td>0.441309</td>\n",
       "      <td>0.480515</td>\n",
       "      <td>0.439927</td>\n",
       "      <td>0.457374</td>\n",
       "      <td>0.710711</td>\n",
       "    </tr>\n",
       "    <tr>\n",
       "      <th>max</th>\n",
       "      <td>1.977573</td>\n",
       "      <td>2.047239</td>\n",
       "      <td>2.113446</td>\n",
       "      <td>1.772221</td>\n",
       "      <td>1.490488</td>\n",
       "    </tr>\n",
       "  </tbody>\n",
       "</table>\n",
       "</div>"
      ],
      "text/plain": [
       "               1          2          3          4          5\n",
       "count  31.000000  31.000000  31.000000  31.000000  31.000000\n",
       "mean   -0.190371  -0.243153  -0.006128  -0.007206  -0.107351\n",
       "std     1.060999   0.990829   0.903523   0.922563   0.950172\n",
       "min    -2.100891  -1.958653  -1.432678  -1.744373  -2.400659\n",
       "25%    -1.013646  -0.761417  -0.642664  -0.665132  -0.659544\n",
       "50%    -0.043779  -0.475733  -0.105257  -0.116196  -0.262406\n",
       "75%     0.441309   0.480515   0.439927   0.457374   0.710711\n",
       "max     1.977573   2.047239   2.113446   1.772221   1.490488"
      ]
     },
     "execution_count": 24,
     "metadata": {},
     "output_type": "execute_result"
    }
   ],
   "source": [
    "df1.describe()  #Se hace un resumen, promedio, desviacion estandar, minimo,maximo y los cuartiles para cada categoria,1,2,3,4 y 5"
   ]
  },
  {
   "cell_type": "code",
   "execution_count": 25,
   "id": "2bc5e355",
   "metadata": {},
   "outputs": [
    {
     "data": {
      "text/html": [
       "<div>\n",
       "<style scoped>\n",
       "    .dataframe tbody tr th:only-of-type {\n",
       "        vertical-align: middle;\n",
       "    }\n",
       "\n",
       "    .dataframe tbody tr th {\n",
       "        vertical-align: top;\n",
       "    }\n",
       "\n",
       "    .dataframe thead th {\n",
       "        text-align: right;\n",
       "    }\n",
       "</style>\n",
       "<table border=\"1\" class=\"dataframe\">\n",
       "  <thead>\n",
       "    <tr style=\"text-align: right;\">\n",
       "      <th></th>\n",
       "      <th>Edad</th>\n",
       "      <th>calificacion</th>\n",
       "      <th>faltas</th>\n",
       "    </tr>\n",
       "  </thead>\n",
       "  <tbody>\n",
       "    <tr>\n",
       "      <th>count</th>\n",
       "      <td>6.000000</td>\n",
       "      <td>6.000000</td>\n",
       "      <td>6.000000</td>\n",
       "    </tr>\n",
       "    <tr>\n",
       "      <th>mean</th>\n",
       "      <td>20.500000</td>\n",
       "      <td>7.166667</td>\n",
       "      <td>3.333333</td>\n",
       "    </tr>\n",
       "    <tr>\n",
       "      <th>std</th>\n",
       "      <td>1.870829</td>\n",
       "      <td>2.316607</td>\n",
       "      <td>2.250926</td>\n",
       "    </tr>\n",
       "    <tr>\n",
       "      <th>min</th>\n",
       "      <td>18.000000</td>\n",
       "      <td>4.000000</td>\n",
       "      <td>1.000000</td>\n",
       "    </tr>\n",
       "    <tr>\n",
       "      <th>25%</th>\n",
       "      <td>19.250000</td>\n",
       "      <td>5.500000</td>\n",
       "      <td>2.000000</td>\n",
       "    </tr>\n",
       "    <tr>\n",
       "      <th>50%</th>\n",
       "      <td>20.500000</td>\n",
       "      <td>7.500000</td>\n",
       "      <td>2.500000</td>\n",
       "    </tr>\n",
       "    <tr>\n",
       "      <th>75%</th>\n",
       "      <td>21.750000</td>\n",
       "      <td>8.750000</td>\n",
       "      <td>4.500000</td>\n",
       "    </tr>\n",
       "    <tr>\n",
       "      <th>max</th>\n",
       "      <td>23.000000</td>\n",
       "      <td>10.000000</td>\n",
       "      <td>7.000000</td>\n",
       "    </tr>\n",
       "  </tbody>\n",
       "</table>\n",
       "</div>"
      ],
      "text/plain": [
       "            Edad  calificacion    faltas\n",
       "count   6.000000      6.000000  6.000000\n",
       "mean   20.500000      7.166667  3.333333\n",
       "std     1.870829      2.316607  2.250926\n",
       "min    18.000000      4.000000  1.000000\n",
       "25%    19.250000      5.500000  2.000000\n",
       "50%    20.500000      7.500000  2.500000\n",
       "75%    21.750000      8.750000  4.500000\n",
       "max    23.000000     10.000000  7.000000"
      ]
     },
     "execution_count": 25,
     "metadata": {},
     "output_type": "execute_result"
    }
   ],
   "source": [
    "H.describe() #No hace nada con la categoria de estado por que son strings-objeto"
   ]
  },
  {
   "cell_type": "code",
   "execution_count": 26,
   "id": "469e6819",
   "metadata": {},
   "outputs": [
    {
     "data": {
      "text/plain": [
       "Edad             int64\n",
       "calificacion     int64\n",
       "faltas           int64\n",
       "Estado          object\n",
       "dtype: object"
      ]
     },
     "execution_count": 26,
     "metadata": {},
     "output_type": "execute_result"
    }
   ],
   "source": [
    "H.dtypes"
   ]
  },
  {
   "cell_type": "markdown",
   "id": "5ddc6bb1",
   "metadata": {},
   "source": [
    "### Subdivision de conjuntos, e indexacion de dataframes"
   ]
  },
  {
   "cell_type": "code",
   "execution_count": 27,
   "id": "03064a0f",
   "metadata": {},
   "outputs": [
    {
     "data": {
      "text/html": [
       "<div>\n",
       "<style scoped>\n",
       "    .dataframe tbody tr th:only-of-type {\n",
       "        vertical-align: middle;\n",
       "    }\n",
       "\n",
       "    .dataframe tbody tr th {\n",
       "        vertical-align: top;\n",
       "    }\n",
       "\n",
       "    .dataframe thead th {\n",
       "        text-align: right;\n",
       "    }\n",
       "</style>\n",
       "<table border=\"1\" class=\"dataframe\">\n",
       "  <thead>\n",
       "    <tr style=\"text-align: right;\">\n",
       "      <th></th>\n",
       "      <th>Juan</th>\n",
       "      <th>Pepe</th>\n",
       "      <th>Francisco</th>\n",
       "      <th>Alejandra</th>\n",
       "      <th>Mick</th>\n",
       "      <th>Maya</th>\n",
       "    </tr>\n",
       "  </thead>\n",
       "  <tbody>\n",
       "    <tr>\n",
       "      <th>Edad</th>\n",
       "      <td>21</td>\n",
       "      <td>22</td>\n",
       "      <td>18</td>\n",
       "      <td>19</td>\n",
       "      <td>23</td>\n",
       "      <td>20</td>\n",
       "    </tr>\n",
       "    <tr>\n",
       "      <th>calificacion</th>\n",
       "      <td>4</td>\n",
       "      <td>8</td>\n",
       "      <td>7</td>\n",
       "      <td>9</td>\n",
       "      <td>10</td>\n",
       "      <td>5</td>\n",
       "    </tr>\n",
       "    <tr>\n",
       "      <th>faltas</th>\n",
       "      <td>5</td>\n",
       "      <td>1</td>\n",
       "      <td>3</td>\n",
       "      <td>2</td>\n",
       "      <td>2</td>\n",
       "      <td>7</td>\n",
       "    </tr>\n",
       "    <tr>\n",
       "      <th>Estado</th>\n",
       "      <td>muere</td>\n",
       "      <td>vive</td>\n",
       "      <td>vive</td>\n",
       "      <td>vive</td>\n",
       "      <td>vive</td>\n",
       "      <td>muere</td>\n",
       "    </tr>\n",
       "  </tbody>\n",
       "</table>\n",
       "</div>"
      ],
      "text/plain": [
       "               Juan  Pepe Francisco Alejandra  Mick   Maya\n",
       "Edad             21    22        18        19    23     20\n",
       "calificacion      4     8         7         9    10      5\n",
       "faltas            5     1         3         2     2      7\n",
       "Estado        muere  vive      vive      vive  vive  muere"
      ]
     },
     "execution_count": 27,
     "metadata": {},
     "output_type": "execute_result"
    }
   ],
   "source": [
    "H.T # Transpuesta"
   ]
  },
  {
   "cell_type": "code",
   "execution_count": 32,
   "id": "b016fa11",
   "metadata": {},
   "outputs": [
    {
     "data": {
      "text/html": [
       "<div>\n",
       "<style scoped>\n",
       "    .dataframe tbody tr th:only-of-type {\n",
       "        vertical-align: middle;\n",
       "    }\n",
       "\n",
       "    .dataframe tbody tr th {\n",
       "        vertical-align: top;\n",
       "    }\n",
       "\n",
       "    .dataframe thead th {\n",
       "        text-align: right;\n",
       "    }\n",
       "</style>\n",
       "<table border=\"1\" class=\"dataframe\">\n",
       "  <thead>\n",
       "    <tr style=\"text-align: right;\">\n",
       "      <th></th>\n",
       "      <th>Edad</th>\n",
       "      <th>calificacion</th>\n",
       "      <th>faltas</th>\n",
       "      <th>Estado</th>\n",
       "    </tr>\n",
       "  </thead>\n",
       "  <tbody>\n",
       "    <tr>\n",
       "      <th>Pepe</th>\n",
       "      <td>22</td>\n",
       "      <td>8</td>\n",
       "      <td>1</td>\n",
       "      <td>vive</td>\n",
       "    </tr>\n",
       "    <tr>\n",
       "      <th>Mick</th>\n",
       "      <td>23</td>\n",
       "      <td>10</td>\n",
       "      <td>2</td>\n",
       "      <td>vive</td>\n",
       "    </tr>\n",
       "    <tr>\n",
       "      <th>Maya</th>\n",
       "      <td>20</td>\n",
       "      <td>5</td>\n",
       "      <td>7</td>\n",
       "      <td>muere</td>\n",
       "    </tr>\n",
       "    <tr>\n",
       "      <th>Juan</th>\n",
       "      <td>21</td>\n",
       "      <td>4</td>\n",
       "      <td>5</td>\n",
       "      <td>muere</td>\n",
       "    </tr>\n",
       "    <tr>\n",
       "      <th>Francisco</th>\n",
       "      <td>18</td>\n",
       "      <td>7</td>\n",
       "      <td>3</td>\n",
       "      <td>vive</td>\n",
       "    </tr>\n",
       "    <tr>\n",
       "      <th>Alejandra</th>\n",
       "      <td>19</td>\n",
       "      <td>9</td>\n",
       "      <td>2</td>\n",
       "      <td>vive</td>\n",
       "    </tr>\n",
       "  </tbody>\n",
       "</table>\n",
       "</div>"
      ],
      "text/plain": [
       "           Edad  calificacion  faltas Estado\n",
       "Pepe         22             8       1   vive\n",
       "Mick         23            10       2   vive\n",
       "Maya         20             5       7  muere\n",
       "Juan         21             4       5  muere\n",
       "Francisco    18             7       3   vive\n",
       "Alejandra    19             9       2   vive"
      ]
     },
     "execution_count": 32,
     "metadata": {},
     "output_type": "execute_result"
    }
   ],
   "source": [
    "H.sort_index(axis=0, ascending=False) # Ordenar por una eje, columna"
   ]
  },
  {
   "cell_type": "code",
   "execution_count": 33,
   "id": "4f66799c",
   "metadata": {},
   "outputs": [
    {
     "data": {
      "text/html": [
       "<div>\n",
       "<style scoped>\n",
       "    .dataframe tbody tr th:only-of-type {\n",
       "        vertical-align: middle;\n",
       "    }\n",
       "\n",
       "    .dataframe tbody tr th {\n",
       "        vertical-align: top;\n",
       "    }\n",
       "\n",
       "    .dataframe thead th {\n",
       "        text-align: right;\n",
       "    }\n",
       "</style>\n",
       "<table border=\"1\" class=\"dataframe\">\n",
       "  <thead>\n",
       "    <tr style=\"text-align: right;\">\n",
       "      <th></th>\n",
       "      <th>faltas</th>\n",
       "      <th>calificacion</th>\n",
       "      <th>Estado</th>\n",
       "      <th>Edad</th>\n",
       "    </tr>\n",
       "  </thead>\n",
       "  <tbody>\n",
       "    <tr>\n",
       "      <th>Juan</th>\n",
       "      <td>5</td>\n",
       "      <td>4</td>\n",
       "      <td>muere</td>\n",
       "      <td>21</td>\n",
       "    </tr>\n",
       "    <tr>\n",
       "      <th>Pepe</th>\n",
       "      <td>1</td>\n",
       "      <td>8</td>\n",
       "      <td>vive</td>\n",
       "      <td>22</td>\n",
       "    </tr>\n",
       "    <tr>\n",
       "      <th>Francisco</th>\n",
       "      <td>3</td>\n",
       "      <td>7</td>\n",
       "      <td>vive</td>\n",
       "      <td>18</td>\n",
       "    </tr>\n",
       "    <tr>\n",
       "      <th>Alejandra</th>\n",
       "      <td>2</td>\n",
       "      <td>9</td>\n",
       "      <td>vive</td>\n",
       "      <td>19</td>\n",
       "    </tr>\n",
       "    <tr>\n",
       "      <th>Mick</th>\n",
       "      <td>2</td>\n",
       "      <td>10</td>\n",
       "      <td>vive</td>\n",
       "      <td>23</td>\n",
       "    </tr>\n",
       "    <tr>\n",
       "      <th>Maya</th>\n",
       "      <td>7</td>\n",
       "      <td>5</td>\n",
       "      <td>muere</td>\n",
       "      <td>20</td>\n",
       "    </tr>\n",
       "  </tbody>\n",
       "</table>\n",
       "</div>"
      ],
      "text/plain": [
       "           faltas  calificacion Estado  Edad\n",
       "Juan            5             4  muere    21\n",
       "Pepe            1             8   vive    22\n",
       "Francisco       3             7   vive    18\n",
       "Alejandra       2             9   vive    19\n",
       "Mick            2            10   vive    23\n",
       "Maya            7             5  muere    20"
      ]
     },
     "execution_count": 33,
     "metadata": {},
     "output_type": "execute_result"
    }
   ],
   "source": [
    "H.sort_index(axis=1, ascending=False)"
   ]
  },
  {
   "cell_type": "code",
   "execution_count": 38,
   "id": "d36d8612",
   "metadata": {},
   "outputs": [
    {
     "data": {
      "text/html": [
       "<div>\n",
       "<style scoped>\n",
       "    .dataframe tbody tr th:only-of-type {\n",
       "        vertical-align: middle;\n",
       "    }\n",
       "\n",
       "    .dataframe tbody tr th {\n",
       "        vertical-align: top;\n",
       "    }\n",
       "\n",
       "    .dataframe thead th {\n",
       "        text-align: right;\n",
       "    }\n",
       "</style>\n",
       "<table border=\"1\" class=\"dataframe\">\n",
       "  <thead>\n",
       "    <tr style=\"text-align: right;\">\n",
       "      <th></th>\n",
       "      <th>Edad</th>\n",
       "      <th>Estado</th>\n",
       "      <th>calificacion</th>\n",
       "      <th>faltas</th>\n",
       "    </tr>\n",
       "  </thead>\n",
       "  <tbody>\n",
       "    <tr>\n",
       "      <th>Juan</th>\n",
       "      <td>21</td>\n",
       "      <td>muere</td>\n",
       "      <td>4</td>\n",
       "      <td>5</td>\n",
       "    </tr>\n",
       "    <tr>\n",
       "      <th>Pepe</th>\n",
       "      <td>22</td>\n",
       "      <td>vive</td>\n",
       "      <td>8</td>\n",
       "      <td>1</td>\n",
       "    </tr>\n",
       "    <tr>\n",
       "      <th>Francisco</th>\n",
       "      <td>18</td>\n",
       "      <td>vive</td>\n",
       "      <td>7</td>\n",
       "      <td>3</td>\n",
       "    </tr>\n",
       "    <tr>\n",
       "      <th>Alejandra</th>\n",
       "      <td>19</td>\n",
       "      <td>vive</td>\n",
       "      <td>9</td>\n",
       "      <td>2</td>\n",
       "    </tr>\n",
       "    <tr>\n",
       "      <th>Mick</th>\n",
       "      <td>23</td>\n",
       "      <td>vive</td>\n",
       "      <td>10</td>\n",
       "      <td>2</td>\n",
       "    </tr>\n",
       "    <tr>\n",
       "      <th>Maya</th>\n",
       "      <td>20</td>\n",
       "      <td>muere</td>\n",
       "      <td>5</td>\n",
       "      <td>7</td>\n",
       "    </tr>\n",
       "  </tbody>\n",
       "</table>\n",
       "</div>"
      ],
      "text/plain": [
       "           Edad Estado  calificacion  faltas\n",
       "Juan         21  muere             4       5\n",
       "Pepe         22   vive             8       1\n",
       "Francisco    18   vive             7       3\n",
       "Alejandra    19   vive             9       2\n",
       "Mick         23   vive            10       2\n",
       "Maya         20  muere             5       7"
      ]
     },
     "execution_count": 38,
     "metadata": {},
     "output_type": "execute_result"
    }
   ],
   "source": [
    "H.sort_index(axis=1, ascending=True)"
   ]
  },
  {
   "cell_type": "code",
   "execution_count": 45,
   "id": "200095cd",
   "metadata": {},
   "outputs": [
    {
     "data": {
      "text/html": [
       "<div>\n",
       "<style scoped>\n",
       "    .dataframe tbody tr th:only-of-type {\n",
       "        vertical-align: middle;\n",
       "    }\n",
       "\n",
       "    .dataframe tbody tr th {\n",
       "        vertical-align: top;\n",
       "    }\n",
       "\n",
       "    .dataframe thead th {\n",
       "        text-align: right;\n",
       "    }\n",
       "</style>\n",
       "<table border=\"1\" class=\"dataframe\">\n",
       "  <thead>\n",
       "    <tr style=\"text-align: right;\">\n",
       "      <th></th>\n",
       "      <th>Edad</th>\n",
       "      <th>calificacion</th>\n",
       "      <th>faltas</th>\n",
       "      <th>Estado</th>\n",
       "    </tr>\n",
       "  </thead>\n",
       "  <tbody>\n",
       "    <tr>\n",
       "      <th>Pepe</th>\n",
       "      <td>22</td>\n",
       "      <td>8</td>\n",
       "      <td>1</td>\n",
       "      <td>vive</td>\n",
       "    </tr>\n",
       "    <tr>\n",
       "      <th>Alejandra</th>\n",
       "      <td>19</td>\n",
       "      <td>9</td>\n",
       "      <td>2</td>\n",
       "      <td>vive</td>\n",
       "    </tr>\n",
       "    <tr>\n",
       "      <th>Mick</th>\n",
       "      <td>23</td>\n",
       "      <td>10</td>\n",
       "      <td>2</td>\n",
       "      <td>vive</td>\n",
       "    </tr>\n",
       "    <tr>\n",
       "      <th>Francisco</th>\n",
       "      <td>18</td>\n",
       "      <td>7</td>\n",
       "      <td>3</td>\n",
       "      <td>vive</td>\n",
       "    </tr>\n",
       "    <tr>\n",
       "      <th>Juan</th>\n",
       "      <td>21</td>\n",
       "      <td>4</td>\n",
       "      <td>5</td>\n",
       "      <td>muere</td>\n",
       "    </tr>\n",
       "    <tr>\n",
       "      <th>Maya</th>\n",
       "      <td>20</td>\n",
       "      <td>5</td>\n",
       "      <td>7</td>\n",
       "      <td>muere</td>\n",
       "    </tr>\n",
       "  </tbody>\n",
       "</table>\n",
       "</div>"
      ],
      "text/plain": [
       "           Edad  calificacion  faltas Estado\n",
       "Pepe         22             8       1   vive\n",
       "Alejandra    19             9       2   vive\n",
       "Mick         23            10       2   vive\n",
       "Francisco    18             7       3   vive\n",
       "Juan         21             4       5  muere\n",
       "Maya         20             5       7  muere"
      ]
     },
     "execution_count": 45,
     "metadata": {},
     "output_type": "execute_result"
    }
   ],
   "source": [
    "H.sort_values(by='faltas') # Ordenar por valores de una categoria"
   ]
  },
  {
   "cell_type": "code",
   "execution_count": 47,
   "id": "55c8f738",
   "metadata": {},
   "outputs": [
    {
     "data": {
      "text/html": [
       "<div>\n",
       "<style scoped>\n",
       "    .dataframe tbody tr th:only-of-type {\n",
       "        vertical-align: middle;\n",
       "    }\n",
       "\n",
       "    .dataframe tbody tr th {\n",
       "        vertical-align: top;\n",
       "    }\n",
       "\n",
       "    .dataframe thead th {\n",
       "        text-align: right;\n",
       "    }\n",
       "</style>\n",
       "<table border=\"1\" class=\"dataframe\">\n",
       "  <thead>\n",
       "    <tr style=\"text-align: right;\">\n",
       "      <th></th>\n",
       "      <th>Edad</th>\n",
       "      <th>calificacion</th>\n",
       "      <th>faltas</th>\n",
       "      <th>Estado</th>\n",
       "    </tr>\n",
       "  </thead>\n",
       "  <tbody>\n",
       "    <tr>\n",
       "      <th>Francisco</th>\n",
       "      <td>18</td>\n",
       "      <td>7</td>\n",
       "      <td>3</td>\n",
       "      <td>vive</td>\n",
       "    </tr>\n",
       "    <tr>\n",
       "      <th>Alejandra</th>\n",
       "      <td>19</td>\n",
       "      <td>9</td>\n",
       "      <td>2</td>\n",
       "      <td>vive</td>\n",
       "    </tr>\n",
       "    <tr>\n",
       "      <th>Maya</th>\n",
       "      <td>20</td>\n",
       "      <td>5</td>\n",
       "      <td>7</td>\n",
       "      <td>muere</td>\n",
       "    </tr>\n",
       "    <tr>\n",
       "      <th>Juan</th>\n",
       "      <td>21</td>\n",
       "      <td>4</td>\n",
       "      <td>5</td>\n",
       "      <td>muere</td>\n",
       "    </tr>\n",
       "    <tr>\n",
       "      <th>Pepe</th>\n",
       "      <td>22</td>\n",
       "      <td>8</td>\n",
       "      <td>1</td>\n",
       "      <td>vive</td>\n",
       "    </tr>\n",
       "    <tr>\n",
       "      <th>Mick</th>\n",
       "      <td>23</td>\n",
       "      <td>10</td>\n",
       "      <td>2</td>\n",
       "      <td>vive</td>\n",
       "    </tr>\n",
       "  </tbody>\n",
       "</table>\n",
       "</div>"
      ],
      "text/plain": [
       "           Edad  calificacion  faltas Estado\n",
       "Francisco    18             7       3   vive\n",
       "Alejandra    19             9       2   vive\n",
       "Maya         20             5       7  muere\n",
       "Juan         21             4       5  muere\n",
       "Pepe         22             8       1   vive\n",
       "Mick         23            10       2   vive"
      ]
     },
     "execution_count": 47,
     "metadata": {},
     "output_type": "execute_result"
    }
   ],
   "source": [
    "H.sort_values(by='Edad')"
   ]
  },
  {
   "cell_type": "code",
   "execution_count": 49,
   "id": "3ff1ff8e",
   "metadata": {},
   "outputs": [
    {
     "data": {
      "text/html": [
       "<div>\n",
       "<style scoped>\n",
       "    .dataframe tbody tr th:only-of-type {\n",
       "        vertical-align: middle;\n",
       "    }\n",
       "\n",
       "    .dataframe tbody tr th {\n",
       "        vertical-align: top;\n",
       "    }\n",
       "\n",
       "    .dataframe thead th {\n",
       "        text-align: right;\n",
       "    }\n",
       "</style>\n",
       "<table border=\"1\" class=\"dataframe\">\n",
       "  <thead>\n",
       "    <tr style=\"text-align: right;\">\n",
       "      <th></th>\n",
       "      <th>Edad</th>\n",
       "      <th>calificacion</th>\n",
       "      <th>faltas</th>\n",
       "      <th>Estado</th>\n",
       "    </tr>\n",
       "  </thead>\n",
       "  <tbody>\n",
       "    <tr>\n",
       "      <th>Juan</th>\n",
       "      <td>21</td>\n",
       "      <td>4</td>\n",
       "      <td>5</td>\n",
       "      <td>muere</td>\n",
       "    </tr>\n",
       "    <tr>\n",
       "      <th>Maya</th>\n",
       "      <td>20</td>\n",
       "      <td>5</td>\n",
       "      <td>7</td>\n",
       "      <td>muere</td>\n",
       "    </tr>\n",
       "    <tr>\n",
       "      <th>Francisco</th>\n",
       "      <td>18</td>\n",
       "      <td>7</td>\n",
       "      <td>3</td>\n",
       "      <td>vive</td>\n",
       "    </tr>\n",
       "    <tr>\n",
       "      <th>Pepe</th>\n",
       "      <td>22</td>\n",
       "      <td>8</td>\n",
       "      <td>1</td>\n",
       "      <td>vive</td>\n",
       "    </tr>\n",
       "    <tr>\n",
       "      <th>Alejandra</th>\n",
       "      <td>19</td>\n",
       "      <td>9</td>\n",
       "      <td>2</td>\n",
       "      <td>vive</td>\n",
       "    </tr>\n",
       "    <tr>\n",
       "      <th>Mick</th>\n",
       "      <td>23</td>\n",
       "      <td>10</td>\n",
       "      <td>2</td>\n",
       "      <td>vive</td>\n",
       "    </tr>\n",
       "  </tbody>\n",
       "</table>\n",
       "</div>"
      ],
      "text/plain": [
       "           Edad  calificacion  faltas Estado\n",
       "Juan         21             4       5  muere\n",
       "Maya         20             5       7  muere\n",
       "Francisco    18             7       3   vive\n",
       "Pepe         22             8       1   vive\n",
       "Alejandra    19             9       2   vive\n",
       "Mick         23            10       2   vive"
      ]
     },
     "execution_count": 49,
     "metadata": {},
     "output_type": "execute_result"
    }
   ],
   "source": [
    "H.sort_values(by='calificacion')"
   ]
  },
  {
   "cell_type": "code",
   "execution_count": 44,
   "id": "f5c860ed",
   "metadata": {},
   "outputs": [
    {
     "data": {
      "text/plain": [
       "Juan         muere\n",
       "Pepe          vive\n",
       "Francisco     vive\n",
       "Alejandra     vive\n",
       "Mick          vive\n",
       "Maya         muere\n",
       "Name: Estado, dtype: object"
      ]
     },
     "execution_count": 44,
     "metadata": {},
     "output_type": "execute_result"
    }
   ],
   "source": [
    "H['Estado'] # Select column A"
   ]
  },
  {
   "cell_type": "code",
   "execution_count": 50,
   "id": "b44869cf",
   "metadata": {},
   "outputs": [
    {
     "data": {
      "text/html": [
       "<div>\n",
       "<style scoped>\n",
       "    .dataframe tbody tr th:only-of-type {\n",
       "        vertical-align: middle;\n",
       "    }\n",
       "\n",
       "    .dataframe tbody tr th {\n",
       "        vertical-align: top;\n",
       "    }\n",
       "\n",
       "    .dataframe thead th {\n",
       "        text-align: right;\n",
       "    }\n",
       "</style>\n",
       "<table border=\"1\" class=\"dataframe\">\n",
       "  <thead>\n",
       "    <tr style=\"text-align: right;\">\n",
       "      <th></th>\n",
       "      <th>Edad</th>\n",
       "      <th>calificacion</th>\n",
       "      <th>faltas</th>\n",
       "      <th>Estado</th>\n",
       "    </tr>\n",
       "  </thead>\n",
       "  <tbody>\n",
       "    <tr>\n",
       "      <th>Juan</th>\n",
       "      <td>21</td>\n",
       "      <td>4</td>\n",
       "      <td>5</td>\n",
       "      <td>muere</td>\n",
       "    </tr>\n",
       "    <tr>\n",
       "      <th>Pepe</th>\n",
       "      <td>22</td>\n",
       "      <td>8</td>\n",
       "      <td>1</td>\n",
       "      <td>vive</td>\n",
       "    </tr>\n",
       "    <tr>\n",
       "      <th>Francisco</th>\n",
       "      <td>18</td>\n",
       "      <td>7</td>\n",
       "      <td>3</td>\n",
       "      <td>vive</td>\n",
       "    </tr>\n",
       "  </tbody>\n",
       "</table>\n",
       "</div>"
      ],
      "text/plain": [
       "           Edad  calificacion  faltas Estado\n",
       "Juan         21             4       5  muere\n",
       "Pepe         22             8       1   vive\n",
       "Francisco    18             7       3   vive"
      ]
     },
     "execution_count": 50,
     "metadata": {},
     "output_type": "execute_result"
    }
   ],
   "source": [
    "H[0:3] # Podemos seleccionar algunas filas o por indice"
   ]
  },
  {
   "cell_type": "code",
   "execution_count": 52,
   "id": "b18e9d2a",
   "metadata": {},
   "outputs": [
    {
     "data": {
      "text/html": [
       "<div>\n",
       "<style scoped>\n",
       "    .dataframe tbody tr th:only-of-type {\n",
       "        vertical-align: middle;\n",
       "    }\n",
       "\n",
       "    .dataframe tbody tr th {\n",
       "        vertical-align: top;\n",
       "    }\n",
       "\n",
       "    .dataframe thead th {\n",
       "        text-align: right;\n",
       "    }\n",
       "</style>\n",
       "<table border=\"1\" class=\"dataframe\">\n",
       "  <thead>\n",
       "    <tr style=\"text-align: right;\">\n",
       "      <th></th>\n",
       "      <th>Edad</th>\n",
       "      <th>calificacion</th>\n",
       "      <th>faltas</th>\n",
       "      <th>Estado</th>\n",
       "    </tr>\n",
       "  </thead>\n",
       "  <tbody>\n",
       "    <tr>\n",
       "      <th>Pepe</th>\n",
       "      <td>22</td>\n",
       "      <td>8</td>\n",
       "      <td>1</td>\n",
       "      <td>vive</td>\n",
       "    </tr>\n",
       "    <tr>\n",
       "      <th>Francisco</th>\n",
       "      <td>18</td>\n",
       "      <td>7</td>\n",
       "      <td>3</td>\n",
       "      <td>vive</td>\n",
       "    </tr>\n",
       "    <tr>\n",
       "      <th>Alejandra</th>\n",
       "      <td>19</td>\n",
       "      <td>9</td>\n",
       "      <td>2</td>\n",
       "      <td>vive</td>\n",
       "    </tr>\n",
       "    <tr>\n",
       "      <th>Mick</th>\n",
       "      <td>23</td>\n",
       "      <td>10</td>\n",
       "      <td>2</td>\n",
       "      <td>vive</td>\n",
       "    </tr>\n",
       "  </tbody>\n",
       "</table>\n",
       "</div>"
      ],
      "text/plain": [
       "           Edad  calificacion  faltas Estado\n",
       "Pepe         22             8       1   vive\n",
       "Francisco    18             7       3   vive\n",
       "Alejandra    19             9       2   vive\n",
       "Mick         23            10       2   vive"
      ]
     },
     "execution_count": 52,
     "metadata": {},
     "output_type": "execute_result"
    }
   ],
   "source": [
    "H['Pepe':'Mick'] "
   ]
  },
  {
   "cell_type": "code",
   "execution_count": 56,
   "id": "504981a0",
   "metadata": {},
   "outputs": [
    {
     "data": {
      "text/html": [
       "<div>\n",
       "<style scoped>\n",
       "    .dataframe tbody tr th:only-of-type {\n",
       "        vertical-align: middle;\n",
       "    }\n",
       "\n",
       "    .dataframe tbody tr th {\n",
       "        vertical-align: top;\n",
       "    }\n",
       "\n",
       "    .dataframe thead th {\n",
       "        text-align: right;\n",
       "    }\n",
       "</style>\n",
       "<table border=\"1\" class=\"dataframe\">\n",
       "  <thead>\n",
       "    <tr style=\"text-align: right;\">\n",
       "      <th></th>\n",
       "      <th>Edad</th>\n",
       "      <th>faltas</th>\n",
       "    </tr>\n",
       "  </thead>\n",
       "  <tbody>\n",
       "    <tr>\n",
       "      <th>Juan</th>\n",
       "      <td>21</td>\n",
       "      <td>5</td>\n",
       "    </tr>\n",
       "    <tr>\n",
       "      <th>Pepe</th>\n",
       "      <td>22</td>\n",
       "      <td>1</td>\n",
       "    </tr>\n",
       "    <tr>\n",
       "      <th>Francisco</th>\n",
       "      <td>18</td>\n",
       "      <td>3</td>\n",
       "    </tr>\n",
       "    <tr>\n",
       "      <th>Alejandra</th>\n",
       "      <td>19</td>\n",
       "      <td>2</td>\n",
       "    </tr>\n",
       "    <tr>\n",
       "      <th>Mick</th>\n",
       "      <td>23</td>\n",
       "      <td>2</td>\n",
       "    </tr>\n",
       "    <tr>\n",
       "      <th>Maya</th>\n",
       "      <td>20</td>\n",
       "      <td>7</td>\n",
       "    </tr>\n",
       "  </tbody>\n",
       "</table>\n",
       "</div>"
      ],
      "text/plain": [
       "           Edad  faltas\n",
       "Juan         21       5\n",
       "Pepe         22       1\n",
       "Francisco    18       3\n",
       "Alejandra    19       2\n",
       "Mick         23       2\n",
       "Maya         20       7"
      ]
     },
     "execution_count": 56,
     "metadata": {},
     "output_type": "execute_result"
    }
   ],
   "source": [
    "H.loc[:, ['Edad', 'faltas']] "
   ]
  },
  {
   "cell_type": "code",
   "execution_count": 65,
   "id": "369d458c",
   "metadata": {},
   "outputs": [
    {
     "data": {
      "text/html": [
       "<div>\n",
       "<style scoped>\n",
       "    .dataframe tbody tr th:only-of-type {\n",
       "        vertical-align: middle;\n",
       "    }\n",
       "\n",
       "    .dataframe tbody tr th {\n",
       "        vertical-align: top;\n",
       "    }\n",
       "\n",
       "    .dataframe thead th {\n",
       "        text-align: right;\n",
       "    }\n",
       "</style>\n",
       "<table border=\"1\" class=\"dataframe\">\n",
       "  <thead>\n",
       "    <tr style=\"text-align: right;\">\n",
       "      <th></th>\n",
       "      <th>Edad</th>\n",
       "      <th>Estado</th>\n",
       "      <th>Edad</th>\n",
       "    </tr>\n",
       "  </thead>\n",
       "  <tbody>\n",
       "    <tr>\n",
       "      <th>Juan</th>\n",
       "      <td>21</td>\n",
       "      <td>muere</td>\n",
       "      <td>21</td>\n",
       "    </tr>\n",
       "    <tr>\n",
       "      <th>Pepe</th>\n",
       "      <td>22</td>\n",
       "      <td>vive</td>\n",
       "      <td>22</td>\n",
       "    </tr>\n",
       "    <tr>\n",
       "      <th>Francisco</th>\n",
       "      <td>18</td>\n",
       "      <td>vive</td>\n",
       "      <td>18</td>\n",
       "    </tr>\n",
       "    <tr>\n",
       "      <th>Alejandra</th>\n",
       "      <td>19</td>\n",
       "      <td>vive</td>\n",
       "      <td>19</td>\n",
       "    </tr>\n",
       "    <tr>\n",
       "      <th>Mick</th>\n",
       "      <td>23</td>\n",
       "      <td>vive</td>\n",
       "      <td>23</td>\n",
       "    </tr>\n",
       "    <tr>\n",
       "      <th>Maya</th>\n",
       "      <td>20</td>\n",
       "      <td>muere</td>\n",
       "      <td>20</td>\n",
       "    </tr>\n",
       "  </tbody>\n",
       "</table>\n",
       "</div>"
      ],
      "text/plain": [
       "           Edad Estado  Edad\n",
       "Juan         21  muere    21\n",
       "Pepe         22   vive    22\n",
       "Francisco    18   vive    18\n",
       "Alejandra    19   vive    19\n",
       "Mick         23   vive    23\n",
       "Maya         20  muere    20"
      ]
     },
     "execution_count": 65,
     "metadata": {},
     "output_type": "execute_result"
    }
   ],
   "source": [
    "H.loc[:, ['Edad', 'Estado','Edad']] #Podemos seleccionar las que queremos"
   ]
  },
  {
   "cell_type": "code",
   "execution_count": 77,
   "id": "5e3c068b",
   "metadata": {},
   "outputs": [
    {
     "data": {
      "text/plain": [
       "Edad               20\n",
       "calificacion        5\n",
       "faltas              7\n",
       "Estado          muere\n",
       "Name: Maya, dtype: object"
      ]
     },
     "execution_count": 77,
     "metadata": {},
     "output_type": "execute_result"
    }
   ],
   "source": [
    "H.iloc[5] # Obtenemos informacion de una sola fila"
   ]
  },
  {
   "cell_type": "code",
   "execution_count": 81,
   "id": "89777208",
   "metadata": {},
   "outputs": [
    {
     "data": {
      "text/html": [
       "<div>\n",
       "<style scoped>\n",
       "    .dataframe tbody tr th:only-of-type {\n",
       "        vertical-align: middle;\n",
       "    }\n",
       "\n",
       "    .dataframe tbody tr th {\n",
       "        vertical-align: top;\n",
       "    }\n",
       "\n",
       "    .dataframe thead th {\n",
       "        text-align: right;\n",
       "    }\n",
       "</style>\n",
       "<table border=\"1\" class=\"dataframe\">\n",
       "  <thead>\n",
       "    <tr style=\"text-align: right;\">\n",
       "      <th></th>\n",
       "      <th>Edad</th>\n",
       "      <th>calificacion</th>\n",
       "      <th>faltas</th>\n",
       "      <th>Estado</th>\n",
       "    </tr>\n",
       "  </thead>\n",
       "  <tbody>\n",
       "    <tr>\n",
       "      <th>Juan</th>\n",
       "      <td>21</td>\n",
       "      <td>NaN</td>\n",
       "      <td>5.0</td>\n",
       "      <td>NaN</td>\n",
       "    </tr>\n",
       "    <tr>\n",
       "      <th>Pepe</th>\n",
       "      <td>22</td>\n",
       "      <td>NaN</td>\n",
       "      <td>NaN</td>\n",
       "      <td>NaN</td>\n",
       "    </tr>\n",
       "    <tr>\n",
       "      <th>Francisco</th>\n",
       "      <td>18</td>\n",
       "      <td>NaN</td>\n",
       "      <td>NaN</td>\n",
       "      <td>NaN</td>\n",
       "    </tr>\n",
       "    <tr>\n",
       "      <th>Alejandra</th>\n",
       "      <td>19</td>\n",
       "      <td>NaN</td>\n",
       "      <td>NaN</td>\n",
       "      <td>NaN</td>\n",
       "    </tr>\n",
       "    <tr>\n",
       "      <th>Mick</th>\n",
       "      <td>23</td>\n",
       "      <td>NaN</td>\n",
       "      <td>NaN</td>\n",
       "      <td>NaN</td>\n",
       "    </tr>\n",
       "    <tr>\n",
       "      <th>Maya</th>\n",
       "      <td>20</td>\n",
       "      <td>NaN</td>\n",
       "      <td>7.0</td>\n",
       "      <td>NaN</td>\n",
       "    </tr>\n",
       "  </tbody>\n",
       "</table>\n",
       "</div>"
      ],
      "text/plain": [
       "           Edad  calificacion  faltas Estado\n",
       "Juan         21           NaN     5.0    NaN\n",
       "Pepe         22           NaN     NaN    NaN\n",
       "Francisco    18           NaN     NaN    NaN\n",
       "Alejandra    19           NaN     NaN    NaN\n",
       "Mick         23           NaN     NaN    NaN\n",
       "Maya         20           NaN     7.0    NaN"
      ]
     },
     "execution_count": 81,
     "metadata": {},
     "output_type": "execute_result"
    }
   ],
   "source": [
    "H[H.loc[:, ['Edad', 'faltas']] >3] #Podemos seleccionar datos que cumplan una condicion"
   ]
  },
  {
   "cell_type": "code",
   "execution_count": 84,
   "id": "1dc84595",
   "metadata": {},
   "outputs": [
    {
     "data": {
      "text/html": [
       "<div>\n",
       "<style scoped>\n",
       "    .dataframe tbody tr th:only-of-type {\n",
       "        vertical-align: middle;\n",
       "    }\n",
       "\n",
       "    .dataframe tbody tr th {\n",
       "        vertical-align: top;\n",
       "    }\n",
       "\n",
       "    .dataframe thead th {\n",
       "        text-align: right;\n",
       "    }\n",
       "</style>\n",
       "<table border=\"1\" class=\"dataframe\">\n",
       "  <thead>\n",
       "    <tr style=\"text-align: right;\">\n",
       "      <th></th>\n",
       "      <th>Edad</th>\n",
       "      <th>calificacion</th>\n",
       "      <th>faltas</th>\n",
       "      <th>Estado</th>\n",
       "    </tr>\n",
       "  </thead>\n",
       "  <tbody>\n",
       "    <tr>\n",
       "      <th>Pepe</th>\n",
       "      <td>22</td>\n",
       "      <td>8</td>\n",
       "      <td>1</td>\n",
       "      <td>vive</td>\n",
       "    </tr>\n",
       "    <tr>\n",
       "      <th>Francisco</th>\n",
       "      <td>18</td>\n",
       "      <td>7</td>\n",
       "      <td>3</td>\n",
       "      <td>vive</td>\n",
       "    </tr>\n",
       "    <tr>\n",
       "      <th>Alejandra</th>\n",
       "      <td>19</td>\n",
       "      <td>9</td>\n",
       "      <td>2</td>\n",
       "      <td>vive</td>\n",
       "    </tr>\n",
       "    <tr>\n",
       "      <th>Mick</th>\n",
       "      <td>23</td>\n",
       "      <td>10</td>\n",
       "      <td>2</td>\n",
       "      <td>vive</td>\n",
       "    </tr>\n",
       "  </tbody>\n",
       "</table>\n",
       "</div>"
      ],
      "text/plain": [
       "           Edad  calificacion  faltas Estado\n",
       "Pepe         22             8       1   vive\n",
       "Francisco    18             7       3   vive\n",
       "Alejandra    19             9       2   vive\n",
       "Mick         23            10       2   vive"
      ]
     },
     "execution_count": 84,
     "metadata": {},
     "output_type": "execute_result"
    }
   ],
   "source": [
    "H[H['calificacion']>6]"
   ]
  },
  {
   "cell_type": "code",
   "execution_count": 104,
   "id": "4b2a17d5",
   "metadata": {},
   "outputs": [
    {
     "data": {
      "text/html": [
       "<div>\n",
       "<style scoped>\n",
       "    .dataframe tbody tr th:only-of-type {\n",
       "        vertical-align: middle;\n",
       "    }\n",
       "\n",
       "    .dataframe tbody tr th {\n",
       "        vertical-align: top;\n",
       "    }\n",
       "\n",
       "    .dataframe thead th {\n",
       "        text-align: right;\n",
       "    }\n",
       "</style>\n",
       "<table border=\"1\" class=\"dataframe\">\n",
       "  <thead>\n",
       "    <tr style=\"text-align: right;\">\n",
       "      <th></th>\n",
       "      <th>Edad</th>\n",
       "      <th>calificacion</th>\n",
       "      <th>faltas</th>\n",
       "      <th>Estado</th>\n",
       "      <th>Participacion</th>\n",
       "    </tr>\n",
       "  </thead>\n",
       "  <tbody>\n",
       "    <tr>\n",
       "      <th>Juan</th>\n",
       "      <td>21</td>\n",
       "      <td>4</td>\n",
       "      <td>5</td>\n",
       "      <td>muere</td>\n",
       "      <td>si</td>\n",
       "    </tr>\n",
       "    <tr>\n",
       "      <th>Alejandra</th>\n",
       "      <td>19</td>\n",
       "      <td>9</td>\n",
       "      <td>2</td>\n",
       "      <td>vive</td>\n",
       "      <td>si</td>\n",
       "    </tr>\n",
       "    <tr>\n",
       "      <th>Mick</th>\n",
       "      <td>23</td>\n",
       "      <td>10</td>\n",
       "      <td>2</td>\n",
       "      <td>vive</td>\n",
       "      <td>meh</td>\n",
       "    </tr>\n",
       "  </tbody>\n",
       "</table>\n",
       "</div>"
      ],
      "text/plain": [
       "           Edad  calificacion  faltas Estado Participacion\n",
       "Juan         21             4       5  muere            si\n",
       "Alejandra    19             9       2   vive            si\n",
       "Mick         23            10       2   vive           meh"
      ]
     },
     "execution_count": 104,
     "metadata": {},
     "output_type": "execute_result"
    }
   ],
   "source": [
    "H['Participacion'] = ['si', 'no', 'no', 'si', 'meh', 'no'] #Agregamos una columna extra \n",
    "H[H['Participacion'].isin(['si', 'meh'])] #Filtramos\n"
   ]
  },
  {
   "cell_type": "code",
   "execution_count": 97,
   "id": "89aaedcf",
   "metadata": {},
   "outputs": [
    {
     "data": {
      "text/html": [
       "<div>\n",
       "<style scoped>\n",
       "    .dataframe tbody tr th:only-of-type {\n",
       "        vertical-align: middle;\n",
       "    }\n",
       "\n",
       "    .dataframe tbody tr th {\n",
       "        vertical-align: top;\n",
       "    }\n",
       "\n",
       "    .dataframe thead th {\n",
       "        text-align: right;\n",
       "    }\n",
       "</style>\n",
       "<table border=\"1\" class=\"dataframe\">\n",
       "  <thead>\n",
       "    <tr style=\"text-align: right;\">\n",
       "      <th></th>\n",
       "      <th>Edad</th>\n",
       "      <th>calificacion</th>\n",
       "      <th>faltas</th>\n",
       "      <th>Estado</th>\n",
       "      <th>Participacion</th>\n",
       "    </tr>\n",
       "  </thead>\n",
       "  <tbody>\n",
       "    <tr>\n",
       "      <th>Pepe</th>\n",
       "      <td>22</td>\n",
       "      <td>8</td>\n",
       "      <td>1</td>\n",
       "      <td>vive</td>\n",
       "      <td>no</td>\n",
       "    </tr>\n",
       "    <tr>\n",
       "      <th>Francisco</th>\n",
       "      <td>18</td>\n",
       "      <td>7</td>\n",
       "      <td>3</td>\n",
       "      <td>vive</td>\n",
       "      <td>no</td>\n",
       "    </tr>\n",
       "    <tr>\n",
       "      <th>Alejandra</th>\n",
       "      <td>19</td>\n",
       "      <td>9</td>\n",
       "      <td>2</td>\n",
       "      <td>vive</td>\n",
       "      <td>si</td>\n",
       "    </tr>\n",
       "    <tr>\n",
       "      <th>Mick</th>\n",
       "      <td>23</td>\n",
       "      <td>10</td>\n",
       "      <td>2</td>\n",
       "      <td>vive</td>\n",
       "      <td>meh</td>\n",
       "    </tr>\n",
       "  </tbody>\n",
       "</table>\n",
       "</div>"
      ],
      "text/plain": [
       "           Edad  calificacion  faltas Estado Participacion\n",
       "Pepe         22             8       1   vive            no\n",
       "Francisco    18             7       3   vive            no\n",
       "Alejandra    19             9       2   vive            si\n",
       "Mick         23            10       2   vive           meh"
      ]
     },
     "execution_count": 97,
     "metadata": {},
     "output_type": "execute_result"
    }
   ],
   "source": [
    "H[H['Estado'].isin(['vive'])] "
   ]
  },
  {
   "cell_type": "markdown",
   "id": "595760de",
   "metadata": {},
   "source": [
    "### Datos faltantes"
   ]
  },
  {
   "cell_type": "code",
   "execution_count": 98,
   "id": "3cf2d1cf",
   "metadata": {},
   "outputs": [
    {
     "data": {
      "text/html": [
       "<div>\n",
       "<style scoped>\n",
       "    .dataframe tbody tr th:only-of-type {\n",
       "        vertical-align: middle;\n",
       "    }\n",
       "\n",
       "    .dataframe tbody tr th {\n",
       "        vertical-align: top;\n",
       "    }\n",
       "\n",
       "    .dataframe thead th {\n",
       "        text-align: right;\n",
       "    }\n",
       "</style>\n",
       "<table border=\"1\" class=\"dataframe\">\n",
       "  <thead>\n",
       "    <tr style=\"text-align: right;\">\n",
       "      <th></th>\n",
       "      <th>Edad</th>\n",
       "      <th>calificacion</th>\n",
       "      <th>faltas</th>\n",
       "      <th>Estado</th>\n",
       "      <th>Participacion</th>\n",
       "    </tr>\n",
       "  </thead>\n",
       "  <tbody>\n",
       "    <tr>\n",
       "      <th>Juan</th>\n",
       "      <td>21</td>\n",
       "      <td>4</td>\n",
       "      <td>5</td>\n",
       "      <td>muere</td>\n",
       "      <td>si</td>\n",
       "    </tr>\n",
       "    <tr>\n",
       "      <th>Pepe</th>\n",
       "      <td>22</td>\n",
       "      <td>8</td>\n",
       "      <td>1</td>\n",
       "      <td>vive</td>\n",
       "      <td>no</td>\n",
       "    </tr>\n",
       "    <tr>\n",
       "      <th>Francisco</th>\n",
       "      <td>18</td>\n",
       "      <td>7</td>\n",
       "      <td>3</td>\n",
       "      <td>vive</td>\n",
       "      <td>no</td>\n",
       "    </tr>\n",
       "    <tr>\n",
       "      <th>Alejandra</th>\n",
       "      <td>19</td>\n",
       "      <td>9</td>\n",
       "      <td>2</td>\n",
       "      <td>vive</td>\n",
       "      <td>si</td>\n",
       "    </tr>\n",
       "    <tr>\n",
       "      <th>Mick</th>\n",
       "      <td>23</td>\n",
       "      <td>10</td>\n",
       "      <td>2</td>\n",
       "      <td>vive</td>\n",
       "      <td>meh</td>\n",
       "    </tr>\n",
       "    <tr>\n",
       "      <th>Maya</th>\n",
       "      <td>20</td>\n",
       "      <td>5</td>\n",
       "      <td>7</td>\n",
       "      <td>muere</td>\n",
       "      <td>no</td>\n",
       "    </tr>\n",
       "  </tbody>\n",
       "</table>\n",
       "</div>"
      ],
      "text/plain": [
       "           Edad  calificacion  faltas Estado Participacion\n",
       "Juan         21             4       5  muere            si\n",
       "Pepe         22             8       1   vive            no\n",
       "Francisco    18             7       3   vive            no\n",
       "Alejandra    19             9       2   vive            si\n",
       "Mick         23            10       2   vive           meh\n",
       "Maya         20             5       7  muere            no"
      ]
     },
     "execution_count": 98,
     "metadata": {},
     "output_type": "execute_result"
    }
   ],
   "source": [
    "H"
   ]
  },
  {
   "cell_type": "code",
   "execution_count": 100,
   "id": "efbf6796",
   "metadata": {},
   "outputs": [
    {
     "data": {
      "text/html": [
       "<div>\n",
       "<style scoped>\n",
       "    .dataframe tbody tr th:only-of-type {\n",
       "        vertical-align: middle;\n",
       "    }\n",
       "\n",
       "    .dataframe tbody tr th {\n",
       "        vertical-align: top;\n",
       "    }\n",
       "\n",
       "    .dataframe thead th {\n",
       "        text-align: right;\n",
       "    }\n",
       "</style>\n",
       "<table border=\"1\" class=\"dataframe\">\n",
       "  <thead>\n",
       "    <tr style=\"text-align: right;\">\n",
       "      <th></th>\n",
       "      <th>Edad</th>\n",
       "      <th>calificacion</th>\n",
       "      <th>faltas</th>\n",
       "      <th>Estado</th>\n",
       "      <th>Participacion</th>\n",
       "    </tr>\n",
       "  </thead>\n",
       "  <tbody>\n",
       "    <tr>\n",
       "      <th>Juan</th>\n",
       "      <td>21</td>\n",
       "      <td>4</td>\n",
       "      <td>5</td>\n",
       "      <td>muere</td>\n",
       "      <td>si</td>\n",
       "    </tr>\n",
       "    <tr>\n",
       "      <th>Pepe</th>\n",
       "      <td>22</td>\n",
       "      <td>8</td>\n",
       "      <td>1</td>\n",
       "      <td>vive</td>\n",
       "      <td>no</td>\n",
       "    </tr>\n",
       "    <tr>\n",
       "      <th>Francisco</th>\n",
       "      <td>18</td>\n",
       "      <td>7</td>\n",
       "      <td>3</td>\n",
       "      <td>vive</td>\n",
       "      <td>no</td>\n",
       "    </tr>\n",
       "    <tr>\n",
       "      <th>Alejandra</th>\n",
       "      <td>19</td>\n",
       "      <td>9</td>\n",
       "      <td>2</td>\n",
       "      <td>vive</td>\n",
       "      <td>si</td>\n",
       "    </tr>\n",
       "    <tr>\n",
       "      <th>Mick</th>\n",
       "      <td>23</td>\n",
       "      <td>10</td>\n",
       "      <td>2</td>\n",
       "      <td>vive</td>\n",
       "      <td>meh</td>\n",
       "    </tr>\n",
       "    <tr>\n",
       "      <th>Maya</th>\n",
       "      <td>20</td>\n",
       "      <td>5</td>\n",
       "      <td>7</td>\n",
       "      <td>muere</td>\n",
       "      <td>no</td>\n",
       "    </tr>\n",
       "  </tbody>\n",
       "</table>\n",
       "</div>"
      ],
      "text/plain": [
       "           Edad  calificacion  faltas Estado Participacion\n",
       "Juan         21             4       5  muere            si\n",
       "Pepe         22             8       1   vive            no\n",
       "Francisco    18             7       3   vive            no\n",
       "Alejandra    19             9       2   vive            si\n",
       "Mick         23            10       2   vive           meh\n",
       "Maya         20             5       7  muere            no"
      ]
     },
     "execution_count": 100,
     "metadata": {},
     "output_type": "execute_result"
    }
   ],
   "source": [
    "H.dropna(how='any')  #quitamos dfilas con datos faltantes, en este caso ninguna"
   ]
  },
  {
   "cell_type": "code",
   "execution_count": 106,
   "id": "9605dacd",
   "metadata": {},
   "outputs": [],
   "source": [
    "H['Tareas'] = [np.nan, 'no', np.nan, np.nan, 'si', 'no'] #Agregamos una columna extra "
   ]
  },
  {
   "cell_type": "code",
   "execution_count": 107,
   "id": "baad7901",
   "metadata": {},
   "outputs": [
    {
     "data": {
      "text/html": [
       "<div>\n",
       "<style scoped>\n",
       "    .dataframe tbody tr th:only-of-type {\n",
       "        vertical-align: middle;\n",
       "    }\n",
       "\n",
       "    .dataframe tbody tr th {\n",
       "        vertical-align: top;\n",
       "    }\n",
       "\n",
       "    .dataframe thead th {\n",
       "        text-align: right;\n",
       "    }\n",
       "</style>\n",
       "<table border=\"1\" class=\"dataframe\">\n",
       "  <thead>\n",
       "    <tr style=\"text-align: right;\">\n",
       "      <th></th>\n",
       "      <th>Edad</th>\n",
       "      <th>calificacion</th>\n",
       "      <th>faltas</th>\n",
       "      <th>Estado</th>\n",
       "      <th>Participacion</th>\n",
       "      <th>Tareas</th>\n",
       "    </tr>\n",
       "  </thead>\n",
       "  <tbody>\n",
       "    <tr>\n",
       "      <th>Pepe</th>\n",
       "      <td>22</td>\n",
       "      <td>8</td>\n",
       "      <td>1</td>\n",
       "      <td>vive</td>\n",
       "      <td>no</td>\n",
       "      <td>no</td>\n",
       "    </tr>\n",
       "    <tr>\n",
       "      <th>Mick</th>\n",
       "      <td>23</td>\n",
       "      <td>10</td>\n",
       "      <td>2</td>\n",
       "      <td>vive</td>\n",
       "      <td>meh</td>\n",
       "      <td>meh</td>\n",
       "    </tr>\n",
       "    <tr>\n",
       "      <th>Maya</th>\n",
       "      <td>20</td>\n",
       "      <td>5</td>\n",
       "      <td>7</td>\n",
       "      <td>muere</td>\n",
       "      <td>no</td>\n",
       "      <td>no</td>\n",
       "    </tr>\n",
       "  </tbody>\n",
       "</table>\n",
       "</div>"
      ],
      "text/plain": [
       "      Edad  calificacion  faltas Estado Participacion Tareas\n",
       "Pepe    22             8       1   vive            no     no\n",
       "Mick    23            10       2   vive           meh    meh\n",
       "Maya    20             5       7  muere            no     no"
      ]
     },
     "execution_count": 107,
     "metadata": {},
     "output_type": "execute_result"
    }
   ],
   "source": [
    "H.dropna(how='any')  #quitamos dfilas con datos faltantes, en este caso ninguna"
   ]
  },
  {
   "cell_type": "code",
   "execution_count": 109,
   "id": "4cd9b384",
   "metadata": {},
   "outputs": [
    {
     "data": {
      "text/html": [
       "<div>\n",
       "<style scoped>\n",
       "    .dataframe tbody tr th:only-of-type {\n",
       "        vertical-align: middle;\n",
       "    }\n",
       "\n",
       "    .dataframe tbody tr th {\n",
       "        vertical-align: top;\n",
       "    }\n",
       "\n",
       "    .dataframe thead th {\n",
       "        text-align: right;\n",
       "    }\n",
       "</style>\n",
       "<table border=\"1\" class=\"dataframe\">\n",
       "  <thead>\n",
       "    <tr style=\"text-align: right;\">\n",
       "      <th></th>\n",
       "      <th>Edad</th>\n",
       "      <th>calificacion</th>\n",
       "      <th>faltas</th>\n",
       "      <th>Estado</th>\n",
       "      <th>Participacion</th>\n",
       "    </tr>\n",
       "  </thead>\n",
       "  <tbody>\n",
       "    <tr>\n",
       "      <th>Juan</th>\n",
       "      <td>21</td>\n",
       "      <td>4</td>\n",
       "      <td>5</td>\n",
       "      <td>muere</td>\n",
       "      <td>si</td>\n",
       "    </tr>\n",
       "    <tr>\n",
       "      <th>Pepe</th>\n",
       "      <td>22</td>\n",
       "      <td>8</td>\n",
       "      <td>1</td>\n",
       "      <td>vive</td>\n",
       "      <td>no</td>\n",
       "    </tr>\n",
       "    <tr>\n",
       "      <th>Francisco</th>\n",
       "      <td>18</td>\n",
       "      <td>7</td>\n",
       "      <td>3</td>\n",
       "      <td>vive</td>\n",
       "      <td>no</td>\n",
       "    </tr>\n",
       "    <tr>\n",
       "      <th>Alejandra</th>\n",
       "      <td>19</td>\n",
       "      <td>9</td>\n",
       "      <td>2</td>\n",
       "      <td>vive</td>\n",
       "      <td>si</td>\n",
       "    </tr>\n",
       "    <tr>\n",
       "      <th>Mick</th>\n",
       "      <td>23</td>\n",
       "      <td>10</td>\n",
       "      <td>2</td>\n",
       "      <td>vive</td>\n",
       "      <td>meh</td>\n",
       "    </tr>\n",
       "    <tr>\n",
       "      <th>Maya</th>\n",
       "      <td>20</td>\n",
       "      <td>5</td>\n",
       "      <td>7</td>\n",
       "      <td>muere</td>\n",
       "      <td>no</td>\n",
       "    </tr>\n",
       "  </tbody>\n",
       "</table>\n",
       "</div>"
      ],
      "text/plain": [
       "           Edad  calificacion  faltas Estado Participacion\n",
       "Juan         21             4       5  muere            si\n",
       "Pepe         22             8       1   vive            no\n",
       "Francisco    18             7       3   vive            no\n",
       "Alejandra    19             9       2   vive            si\n",
       "Mick         23            10       2   vive           meh\n",
       "Maya         20             5       7  muere            no"
      ]
     },
     "execution_count": 109,
     "metadata": {},
     "output_type": "execute_result"
    }
   ],
   "source": [
    "H.dropna(how='any', axis=1) # con axix=1 ahora eliminamos columnas, se va toda la columna tareas"
   ]
  },
  {
   "cell_type": "code",
   "execution_count": 113,
   "id": "8f0660bd",
   "metadata": {},
   "outputs": [
    {
     "data": {
      "text/html": [
       "<div>\n",
       "<style scoped>\n",
       "    .dataframe tbody tr th:only-of-type {\n",
       "        vertical-align: middle;\n",
       "    }\n",
       "\n",
       "    .dataframe tbody tr th {\n",
       "        vertical-align: top;\n",
       "    }\n",
       "\n",
       "    .dataframe thead th {\n",
       "        text-align: right;\n",
       "    }\n",
       "</style>\n",
       "<table border=\"1\" class=\"dataframe\">\n",
       "  <thead>\n",
       "    <tr style=\"text-align: right;\">\n",
       "      <th></th>\n",
       "      <th>Edad</th>\n",
       "      <th>calificacion</th>\n",
       "      <th>faltas</th>\n",
       "      <th>Estado</th>\n",
       "      <th>Participacion</th>\n",
       "      <th>Tareas</th>\n",
       "    </tr>\n",
       "  </thead>\n",
       "  <tbody>\n",
       "    <tr>\n",
       "      <th>Juan</th>\n",
       "      <td>21</td>\n",
       "      <td>4</td>\n",
       "      <td>5</td>\n",
       "      <td>muere</td>\n",
       "      <td>si</td>\n",
       "      <td>5</td>\n",
       "    </tr>\n",
       "    <tr>\n",
       "      <th>Pepe</th>\n",
       "      <td>22</td>\n",
       "      <td>8</td>\n",
       "      <td>1</td>\n",
       "      <td>vive</td>\n",
       "      <td>no</td>\n",
       "      <td>no</td>\n",
       "    </tr>\n",
       "    <tr>\n",
       "      <th>Francisco</th>\n",
       "      <td>18</td>\n",
       "      <td>7</td>\n",
       "      <td>3</td>\n",
       "      <td>vive</td>\n",
       "      <td>no</td>\n",
       "      <td>5</td>\n",
       "    </tr>\n",
       "    <tr>\n",
       "      <th>Alejandra</th>\n",
       "      <td>19</td>\n",
       "      <td>9</td>\n",
       "      <td>2</td>\n",
       "      <td>vive</td>\n",
       "      <td>si</td>\n",
       "      <td>5</td>\n",
       "    </tr>\n",
       "    <tr>\n",
       "      <th>Mick</th>\n",
       "      <td>23</td>\n",
       "      <td>10</td>\n",
       "      <td>2</td>\n",
       "      <td>vive</td>\n",
       "      <td>meh</td>\n",
       "      <td>meh</td>\n",
       "    </tr>\n",
       "    <tr>\n",
       "      <th>Maya</th>\n",
       "      <td>20</td>\n",
       "      <td>5</td>\n",
       "      <td>7</td>\n",
       "      <td>muere</td>\n",
       "      <td>no</td>\n",
       "      <td>no</td>\n",
       "    </tr>\n",
       "  </tbody>\n",
       "</table>\n",
       "</div>"
      ],
      "text/plain": [
       "           Edad  calificacion  faltas Estado Participacion Tareas\n",
       "Juan         21             4       5  muere            si      5\n",
       "Pepe         22             8       1   vive            no     no\n",
       "Francisco    18             7       3   vive            no      5\n",
       "Alejandra    19             9       2   vive            si      5\n",
       "Mick         23            10       2   vive           meh    meh\n",
       "Maya         20             5       7  muere            no     no"
      ]
     },
     "execution_count": 113,
     "metadata": {},
     "output_type": "execute_result"
    }
   ],
   "source": [
    "H.fillna(value=5) # A los que no tienen tareas les ponemos pendiente"
   ]
  },
  {
   "cell_type": "code",
   "execution_count": 117,
   "id": "81aba514",
   "metadata": {},
   "outputs": [
    {
     "data": {
      "text/html": [
       "<div>\n",
       "<style scoped>\n",
       "    .dataframe tbody tr th:only-of-type {\n",
       "        vertical-align: middle;\n",
       "    }\n",
       "\n",
       "    .dataframe tbody tr th {\n",
       "        vertical-align: top;\n",
       "    }\n",
       "\n",
       "    .dataframe thead th {\n",
       "        text-align: right;\n",
       "    }\n",
       "</style>\n",
       "<table border=\"1\" class=\"dataframe\">\n",
       "  <thead>\n",
       "    <tr style=\"text-align: right;\">\n",
       "      <th></th>\n",
       "      <th>Edad</th>\n",
       "      <th>calificacion</th>\n",
       "      <th>faltas</th>\n",
       "      <th>Estado</th>\n",
       "      <th>Participacion</th>\n",
       "      <th>Tareas</th>\n",
       "    </tr>\n",
       "  </thead>\n",
       "  <tbody>\n",
       "    <tr>\n",
       "      <th>Juan</th>\n",
       "      <td>False</td>\n",
       "      <td>False</td>\n",
       "      <td>False</td>\n",
       "      <td>False</td>\n",
       "      <td>False</td>\n",
       "      <td>True</td>\n",
       "    </tr>\n",
       "    <tr>\n",
       "      <th>Pepe</th>\n",
       "      <td>False</td>\n",
       "      <td>False</td>\n",
       "      <td>False</td>\n",
       "      <td>False</td>\n",
       "      <td>False</td>\n",
       "      <td>False</td>\n",
       "    </tr>\n",
       "    <tr>\n",
       "      <th>Francisco</th>\n",
       "      <td>False</td>\n",
       "      <td>False</td>\n",
       "      <td>False</td>\n",
       "      <td>False</td>\n",
       "      <td>False</td>\n",
       "      <td>True</td>\n",
       "    </tr>\n",
       "    <tr>\n",
       "      <th>Alejandra</th>\n",
       "      <td>False</td>\n",
       "      <td>False</td>\n",
       "      <td>False</td>\n",
       "      <td>False</td>\n",
       "      <td>False</td>\n",
       "      <td>True</td>\n",
       "    </tr>\n",
       "    <tr>\n",
       "      <th>Mick</th>\n",
       "      <td>False</td>\n",
       "      <td>False</td>\n",
       "      <td>False</td>\n",
       "      <td>False</td>\n",
       "      <td>False</td>\n",
       "      <td>False</td>\n",
       "    </tr>\n",
       "    <tr>\n",
       "      <th>Maya</th>\n",
       "      <td>False</td>\n",
       "      <td>False</td>\n",
       "      <td>False</td>\n",
       "      <td>False</td>\n",
       "      <td>False</td>\n",
       "      <td>False</td>\n",
       "    </tr>\n",
       "  </tbody>\n",
       "</table>\n",
       "</div>"
      ],
      "text/plain": [
       "            Edad  calificacion  faltas  Estado  Participacion  Tareas\n",
       "Juan       False         False   False   False          False    True\n",
       "Pepe       False         False   False   False          False   False\n",
       "Francisco  False         False   False   False          False    True\n",
       "Alejandra  False         False   False   False          False    True\n",
       "Mick       False         False   False   False          False   False\n",
       "Maya       False         False   False   False          False   False"
      ]
     },
     "execution_count": 117,
     "metadata": {},
     "output_type": "execute_result"
    }
   ],
   "source": [
    "pd.isna(H) # Vemos donde hay datos faltantes"
   ]
  },
  {
   "cell_type": "markdown",
   "id": "c5a4d38a",
   "metadata": {},
   "source": [
    "### Manejo de archivos"
   ]
  },
  {
   "cell_type": "code",
   "execution_count": 118,
   "id": "dc553183",
   "metadata": {},
   "outputs": [
    {
     "data": {
      "text/html": [
       "<div>\n",
       "<style scoped>\n",
       "    .dataframe tbody tr th:only-of-type {\n",
       "        vertical-align: middle;\n",
       "    }\n",
       "\n",
       "    .dataframe tbody tr th {\n",
       "        vertical-align: top;\n",
       "    }\n",
       "\n",
       "    .dataframe thead th {\n",
       "        text-align: right;\n",
       "    }\n",
       "</style>\n",
       "<table border=\"1\" class=\"dataframe\">\n",
       "  <thead>\n",
       "    <tr style=\"text-align: right;\">\n",
       "      <th></th>\n",
       "      <th>Edad</th>\n",
       "      <th>calificacion</th>\n",
       "      <th>faltas</th>\n",
       "      <th>Estado</th>\n",
       "      <th>Participacion</th>\n",
       "      <th>Tareas</th>\n",
       "    </tr>\n",
       "  </thead>\n",
       "  <tbody>\n",
       "    <tr>\n",
       "      <th>Juan</th>\n",
       "      <td>21</td>\n",
       "      <td>4</td>\n",
       "      <td>5</td>\n",
       "      <td>muere</td>\n",
       "      <td>si</td>\n",
       "      <td>NaN</td>\n",
       "    </tr>\n",
       "    <tr>\n",
       "      <th>Pepe</th>\n",
       "      <td>22</td>\n",
       "      <td>8</td>\n",
       "      <td>1</td>\n",
       "      <td>vive</td>\n",
       "      <td>no</td>\n",
       "      <td>no</td>\n",
       "    </tr>\n",
       "    <tr>\n",
       "      <th>Francisco</th>\n",
       "      <td>18</td>\n",
       "      <td>7</td>\n",
       "      <td>3</td>\n",
       "      <td>vive</td>\n",
       "      <td>no</td>\n",
       "      <td>NaN</td>\n",
       "    </tr>\n",
       "    <tr>\n",
       "      <th>Alejandra</th>\n",
       "      <td>19</td>\n",
       "      <td>9</td>\n",
       "      <td>2</td>\n",
       "      <td>vive</td>\n",
       "      <td>si</td>\n",
       "      <td>NaN</td>\n",
       "    </tr>\n",
       "    <tr>\n",
       "      <th>Mick</th>\n",
       "      <td>23</td>\n",
       "      <td>10</td>\n",
       "      <td>2</td>\n",
       "      <td>vive</td>\n",
       "      <td>meh</td>\n",
       "      <td>meh</td>\n",
       "    </tr>\n",
       "    <tr>\n",
       "      <th>Maya</th>\n",
       "      <td>20</td>\n",
       "      <td>5</td>\n",
       "      <td>7</td>\n",
       "      <td>muere</td>\n",
       "      <td>no</td>\n",
       "      <td>no</td>\n",
       "    </tr>\n",
       "  </tbody>\n",
       "</table>\n",
       "</div>"
      ],
      "text/plain": [
       "           Edad  calificacion  faltas Estado Participacion Tareas\n",
       "Juan         21             4       5  muere            si    NaN\n",
       "Pepe         22             8       1   vive            no     no\n",
       "Francisco    18             7       3   vive            no    NaN\n",
       "Alejandra    19             9       2   vive            si    NaN\n",
       "Mick         23            10       2   vive           meh    meh\n",
       "Maya         20             5       7  muere            no     no"
      ]
     },
     "execution_count": 118,
     "metadata": {},
     "output_type": "execute_result"
    }
   ],
   "source": [
    "H"
   ]
  },
  {
   "cell_type": "code",
   "execution_count": 119,
   "id": "3a541f0f",
   "metadata": {},
   "outputs": [],
   "source": [
    "H.to_csv('calf.csv') # Escribimos un archivo .csv"
   ]
  },
  {
   "cell_type": "code",
   "execution_count": 120,
   "id": "b0f6e3d3",
   "metadata": {},
   "outputs": [
    {
     "data": {
      "text/html": [
       "<div>\n",
       "<style scoped>\n",
       "    .dataframe tbody tr th:only-of-type {\n",
       "        vertical-align: middle;\n",
       "    }\n",
       "\n",
       "    .dataframe tbody tr th {\n",
       "        vertical-align: top;\n",
       "    }\n",
       "\n",
       "    .dataframe thead th {\n",
       "        text-align: right;\n",
       "    }\n",
       "</style>\n",
       "<table border=\"1\" class=\"dataframe\">\n",
       "  <thead>\n",
       "    <tr style=\"text-align: right;\">\n",
       "      <th></th>\n",
       "      <th>Unnamed: 0</th>\n",
       "      <th>Edad</th>\n",
       "      <th>calificacion</th>\n",
       "      <th>faltas</th>\n",
       "      <th>Estado</th>\n",
       "      <th>Participacion</th>\n",
       "      <th>Tareas</th>\n",
       "    </tr>\n",
       "  </thead>\n",
       "  <tbody>\n",
       "    <tr>\n",
       "      <th>0</th>\n",
       "      <td>Juan</td>\n",
       "      <td>21</td>\n",
       "      <td>4</td>\n",
       "      <td>5</td>\n",
       "      <td>muere</td>\n",
       "      <td>si</td>\n",
       "      <td>NaN</td>\n",
       "    </tr>\n",
       "    <tr>\n",
       "      <th>1</th>\n",
       "      <td>Pepe</td>\n",
       "      <td>22</td>\n",
       "      <td>8</td>\n",
       "      <td>1</td>\n",
       "      <td>vive</td>\n",
       "      <td>no</td>\n",
       "      <td>no</td>\n",
       "    </tr>\n",
       "    <tr>\n",
       "      <th>2</th>\n",
       "      <td>Francisco</td>\n",
       "      <td>18</td>\n",
       "      <td>7</td>\n",
       "      <td>3</td>\n",
       "      <td>vive</td>\n",
       "      <td>no</td>\n",
       "      <td>NaN</td>\n",
       "    </tr>\n",
       "    <tr>\n",
       "      <th>3</th>\n",
       "      <td>Alejandra</td>\n",
       "      <td>19</td>\n",
       "      <td>9</td>\n",
       "      <td>2</td>\n",
       "      <td>vive</td>\n",
       "      <td>si</td>\n",
       "      <td>NaN</td>\n",
       "    </tr>\n",
       "    <tr>\n",
       "      <th>4</th>\n",
       "      <td>Mick</td>\n",
       "      <td>23</td>\n",
       "      <td>10</td>\n",
       "      <td>2</td>\n",
       "      <td>vive</td>\n",
       "      <td>meh</td>\n",
       "      <td>meh</td>\n",
       "    </tr>\n",
       "    <tr>\n",
       "      <th>5</th>\n",
       "      <td>Maya</td>\n",
       "      <td>20</td>\n",
       "      <td>5</td>\n",
       "      <td>7</td>\n",
       "      <td>muere</td>\n",
       "      <td>no</td>\n",
       "      <td>no</td>\n",
       "    </tr>\n",
       "  </tbody>\n",
       "</table>\n",
       "</div>"
      ],
      "text/plain": [
       "  Unnamed: 0  Edad  calificacion  faltas Estado Participacion Tareas\n",
       "0       Juan    21             4       5  muere            si    NaN\n",
       "1       Pepe    22             8       1   vive            no     no\n",
       "2  Francisco    18             7       3   vive            no    NaN\n",
       "3  Alejandra    19             9       2   vive            si    NaN\n",
       "4       Mick    23            10       2   vive           meh    meh\n",
       "5       Maya    20             5       7  muere            no     no"
      ]
     },
     "execution_count": 120,
     "metadata": {},
     "output_type": "execute_result"
    }
   ],
   "source": [
    "pd.read_csv('calf.csv') # Podemos leer este archivo u otro guardado que tengamos"
   ]
  },
  {
   "cell_type": "code",
   "execution_count": 121,
   "id": "9f963511",
   "metadata": {},
   "outputs": [],
   "source": [
    "H.to_excel('calf.xlsx', sheet_name='Hoja_1.1') # Ahora directo a Excel, podemos elegir la hoja de calculo"
   ]
  },
  {
   "cell_type": "code",
   "execution_count": 122,
   "id": "bec0ff02",
   "metadata": {},
   "outputs": [
    {
     "data": {
      "text/html": [
       "<div>\n",
       "<style scoped>\n",
       "    .dataframe tbody tr th:only-of-type {\n",
       "        vertical-align: middle;\n",
       "    }\n",
       "\n",
       "    .dataframe tbody tr th {\n",
       "        vertical-align: top;\n",
       "    }\n",
       "\n",
       "    .dataframe thead th {\n",
       "        text-align: right;\n",
       "    }\n",
       "</style>\n",
       "<table border=\"1\" class=\"dataframe\">\n",
       "  <thead>\n",
       "    <tr style=\"text-align: right;\">\n",
       "      <th></th>\n",
       "      <th>Unnamed: 0</th>\n",
       "      <th>Edad</th>\n",
       "      <th>calificacion</th>\n",
       "      <th>faltas</th>\n",
       "      <th>Estado</th>\n",
       "      <th>Participacion</th>\n",
       "      <th>Tareas</th>\n",
       "    </tr>\n",
       "  </thead>\n",
       "  <tbody>\n",
       "    <tr>\n",
       "      <th>0</th>\n",
       "      <td>Juan</td>\n",
       "      <td>21</td>\n",
       "      <td>4</td>\n",
       "      <td>5</td>\n",
       "      <td>muere</td>\n",
       "      <td>si</td>\n",
       "      <td>NaN</td>\n",
       "    </tr>\n",
       "    <tr>\n",
       "      <th>1</th>\n",
       "      <td>Pepe</td>\n",
       "      <td>22</td>\n",
       "      <td>8</td>\n",
       "      <td>1</td>\n",
       "      <td>vive</td>\n",
       "      <td>no</td>\n",
       "      <td>no</td>\n",
       "    </tr>\n",
       "    <tr>\n",
       "      <th>2</th>\n",
       "      <td>Francisco</td>\n",
       "      <td>18</td>\n",
       "      <td>7</td>\n",
       "      <td>3</td>\n",
       "      <td>vive</td>\n",
       "      <td>no</td>\n",
       "      <td>NaN</td>\n",
       "    </tr>\n",
       "    <tr>\n",
       "      <th>3</th>\n",
       "      <td>Alejandra</td>\n",
       "      <td>19</td>\n",
       "      <td>9</td>\n",
       "      <td>2</td>\n",
       "      <td>vive</td>\n",
       "      <td>si</td>\n",
       "      <td>NaN</td>\n",
       "    </tr>\n",
       "    <tr>\n",
       "      <th>4</th>\n",
       "      <td>Mick</td>\n",
       "      <td>23</td>\n",
       "      <td>10</td>\n",
       "      <td>2</td>\n",
       "      <td>vive</td>\n",
       "      <td>meh</td>\n",
       "      <td>meh</td>\n",
       "    </tr>\n",
       "    <tr>\n",
       "      <th>5</th>\n",
       "      <td>Maya</td>\n",
       "      <td>20</td>\n",
       "      <td>5</td>\n",
       "      <td>7</td>\n",
       "      <td>muere</td>\n",
       "      <td>no</td>\n",
       "      <td>no</td>\n",
       "    </tr>\n",
       "  </tbody>\n",
       "</table>\n",
       "</div>"
      ],
      "text/plain": [
       "  Unnamed: 0  Edad  calificacion  faltas Estado Participacion Tareas\n",
       "0       Juan    21             4       5  muere            si    NaN\n",
       "1       Pepe    22             8       1   vive            no     no\n",
       "2  Francisco    18             7       3   vive            no    NaN\n",
       "3  Alejandra    19             9       2   vive            si    NaN\n",
       "4       Mick    23            10       2   vive           meh    meh\n",
       "5       Maya    20             5       7  muere            no     no"
      ]
     },
     "execution_count": 122,
     "metadata": {},
     "output_type": "execute_result"
    }
   ],
   "source": [
    "pd.read_excel('Calf.xlsx', 'Hoja_1.1', index_col=None, na_values=['NA']) # Leemos lo anterior"
   ]
  },
  {
   "cell_type": "markdown",
   "id": "0a045b09",
   "metadata": {},
   "source": [
    "### Matplolib"
   ]
  },
  {
   "cell_type": "code",
   "execution_count": 124,
   "id": "beff01e0",
   "metadata": {},
   "outputs": [],
   "source": [
    "from matplotlib import pyplot as plt "
   ]
  },
  {
   "cell_type": "code",
   "execution_count": 134,
   "id": "cba87e0f",
   "metadata": {},
   "outputs": [
    {
     "data": {
      "image/png": "[encoded data removed]",
      "text/plain": [
       "<Figure size 432x288 with 1 Axes>"
      ]
     },
     "metadata": {
      "needs_background": "light"
     },
     "output_type": "display_data"
    }
   ],
   "source": [
    "#Con el dataframe que creeamos antes hacemos una grafica\n",
    "df1 = df1.cumsum()\n",
    "df1.plot()\n",
    "plt.show()"
   ]
  },
  {
   "cell_type": "code",
   "execution_count": 139,
   "id": "0ce9d0f0",
   "metadata": {},
   "outputs": [
    {
     "data": {
      "text/plain": [
       "<AxesSubplot:>"
      ]
     },
     "execution_count": 139,
     "metadata": {},
     "output_type": "execute_result"
    },
    {
     "data": {
      "image/png": "[encoded data removed]",
      "text/plain": [
       "<Figure size 432x288 with 1 Axes>"
      ]
     },
     "metadata": {
      "needs_background": "light"
     },
     "output_type": "display_data"
    }
   ],
   "source": [
    "df1[\"1\"].plot()"
   ]
  },
  {
   "cell_type": "code",
   "execution_count": 148,
   "id": "b0017ca4",
   "metadata": {},
   "outputs": [
    {
     "data": {
      "text/plain": [
       "<AxesSubplot:>"
      ]
     },
     "execution_count": 148,
     "metadata": {},
     "output_type": "execute_result"
    },
    {
     "data": {
      "image/png": "[encoded data removed]",
      "text/plain": [
       "<Figure size 432x288 with 1 Axes>"
      ]
     },
     "metadata": {
      "needs_background": "light"
     },
     "output_type": "display_data"
    }
   ],
   "source": [
    "df1.plot.box()"
   ]
  },
  {
   "cell_type": "code",
   "execution_count": 149,
   "id": "ccbd33a5",
   "metadata": {},
   "outputs": [
    {
     "data": {
      "text/plain": [
       "<AxesSubplot:>"
      ]
     },
     "execution_count": 149,
     "metadata": {},
     "output_type": "execute_result"
    },
    {
     "data": {
      "image/png": "[encoded data removed]",
      "text/plain": [
       "<Figure size 432x288 with 1 Axes>"
      ]
     },
     "metadata": {
      "needs_background": "light"
     },
     "output_type": "display_data"
    }
   ],
   "source": [
    "H.plot.box()"
   ]
  },
  {
   "cell_type": "code",
   "execution_count": null,
   "id": "585bb02b",
   "metadata": {},
   "outputs": [],
   "source": []
  }
 ],
 "metadata": {
  "kernelspec": {
   "display_name": "Python 3",
   "language": "python",
   "name": "python3"
  },
  "language_info": {
   "codemirror_mode": {
    "name": "ipython",
    "version": 3
   },
   "file_extension": ".py",
   "mimetype": "text/x-python",
   "name": "python",
   "nbconvert_exporter": "python",
   "pygments_lexer": "ipython3",
   "version": "3.8.8"
  }
 },
 "nbformat": 4,
 "nbformat_minor": 5
}
